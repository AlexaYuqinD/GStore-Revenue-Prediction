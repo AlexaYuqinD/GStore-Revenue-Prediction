{
 "cells": [
  {
   "cell_type": "code",
   "execution_count": 1,
   "metadata": {},
   "outputs": [],
   "source": [
    "%matplotlib inline\n",
    "%config InlineBackend.figure_format = 'retina'\n",
    "\n",
    "import matplotlib\n",
    "import matplotlib.pyplot as plt\n",
    "import seaborn as sns\n",
    "import time\n",
    "import os\n",
    "os.environ['KMP_DUPLICATE_LIB_OK']='True'\n",
    "import lightgbm as lgb\n",
    "import pandas as pd\n",
    "import numpy as np\n",
    "import sklearn\n",
    "from collections import Counter\n",
    "from sklearn import preprocessing\n",
    "from sklearn.model_selection import train_test_split\n",
    "from sklearn import metrics\n",
    "from sklearn.pipeline import Pipeline\n",
    "from sklearn.preprocessing import StandardScaler, OneHotEncoder\n",
    "from sklearn.compose import ColumnTransformer\n",
    "from sklearn.linear_model import LogisticRegression\n",
    "from sklearn.metrics import classification_report\n",
    "from sklearn.metrics import roc_auc_score\n",
    "from sklearn.metrics import precision_recall_curve\n",
    "from sklearn.metrics import auc\n",
    "from sklearn.metrics import roc_curve\n",
    "from sklearn.metrics import f1_score\n",
    "from sklearn.linear_model import LinearRegression\n",
    "import xgboost as xgb\n",
    "from catboost import CatBoostRegressor\n",
    "\n",
    "from imblearn.over_sampling import RandomOverSampler\n",
    "from imblearn.over_sampling import SMOTE"
   ]
  },
  {
   "cell_type": "code",
   "execution_count": 2,
   "metadata": {},
   "outputs": [
    {
     "name": "stderr",
     "output_type": "stream",
     "text": [
      "C:\\Users\\THINKPAD\\AppData\\Local\\Continuum\\Anaconda3\\envs\\Tensor\\lib\\site-packages\\IPython\\core\\interactiveshell.py:3020: DtypeWarning: Columns (3) have mixed types. Specify dtype option on import or set low_memory=False.\n",
      "  interactivity=interactivity, compiler=compiler, result=result)\n"
     ]
    }
   ],
   "source": [
    "dfTrain = pd.read_csv('dfTrain.csv', index_col=0).reset_index()\n",
    "dfTest = pd.read_csv('dfTest.csv', index_col=0).reset_index()"
   ]
  },
  {
   "cell_type": "code",
   "execution_count": 3,
   "metadata": {
    "scrolled": true
   },
   "outputs": [
    {
     "name": "stdout",
     "output_type": "stream",
     "text": [
      "<class 'pandas.core.frame.DataFrame'>\n",
      "RangeIndex: 722922 entries, 0 to 722921\n",
      "Data columns (total 35 columns):\n",
      "index                                           722922 non-null int64\n",
      "channelGrouping                                 722922 non-null object\n",
      "date                                            722922 non-null int64\n",
      "fullVisitorId                                   722922 non-null object\n",
      "visitNumber                                     722922 non-null int64\n",
      "visitStartTime                                  722922 non-null int64\n",
      "device.browser                                  722922 non-null object\n",
      "device.deviceCategory                           722922 non-null object\n",
      "device.isMobile                                 722922 non-null bool\n",
      "device.operatingSystem                          722922 non-null object\n",
      "geoNetwork.city                                 722922 non-null object\n",
      "geoNetwork.continent                            722922 non-null object\n",
      "geoNetwork.country                              722922 non-null object\n",
      "geoNetwork.metro                                722922 non-null object\n",
      "geoNetwork.networkDomain                        722922 non-null object\n",
      "geoNetwork.region                               722922 non-null object\n",
      "geoNetwork.subContinent                         722922 non-null object\n",
      "totals.bounces                                  722922 non-null bool\n",
      "totals.hits                                     722922 non-null int64\n",
      "totals.newVisits                                722922 non-null bool\n",
      "totals.pageviews                                722922 non-null int64\n",
      "totals.transactionRevenue                       722922 non-null int64\n",
      "trafficSource.adContent                         8754 non-null object\n",
      "trafficSource.adwordsClickInfo.adNetworkType    17099 non-null object\n",
      "trafficSource.adwordsClickInfo.gclId            17176 non-null object\n",
      "trafficSource.adwordsClickInfo.isVideoAd        17099 non-null object\n",
      "trafficSource.adwordsClickInfo.page             17099 non-null float64\n",
      "trafficSource.adwordsClickInfo.slot             17099 non-null object\n",
      "trafficSource.campaign                          722922 non-null object\n",
      "trafficSource.isTrueDirect                      219343 non-null object\n",
      "trafficSource.keyword                           320764 non-null object\n",
      "trafficSource.medium                            722922 non-null object\n",
      "trafficSource.referralPath                      264591 non-null object\n",
      "trafficSource.source                            722922 non-null object\n",
      "hasRevenue                                      722922 non-null bool\n",
      "dtypes: bool(4), float64(1), int64(7), object(23)\n",
      "memory usage: 173.7+ MB\n"
     ]
    }
   ],
   "source": [
    "dfTrain.info()"
   ]
  },
  {
   "cell_type": "code",
   "execution_count": 4,
   "metadata": {},
   "outputs": [
    {
     "data": {
      "text/html": [
       "<div>\n",
       "<style scoped>\n",
       "    .dataframe tbody tr th:only-of-type {\n",
       "        vertical-align: middle;\n",
       "    }\n",
       "\n",
       "    .dataframe tbody tr th {\n",
       "        vertical-align: top;\n",
       "    }\n",
       "\n",
       "    .dataframe thead th {\n",
       "        text-align: right;\n",
       "    }\n",
       "</style>\n",
       "<table border=\"1\" class=\"dataframe\">\n",
       "  <thead>\n",
       "    <tr style=\"text-align: right;\">\n",
       "      <th></th>\n",
       "      <th>index</th>\n",
       "      <th>channelGrouping</th>\n",
       "      <th>date</th>\n",
       "      <th>fullVisitorId</th>\n",
       "      <th>visitNumber</th>\n",
       "      <th>visitStartTime</th>\n",
       "      <th>device.browser</th>\n",
       "      <th>device.deviceCategory</th>\n",
       "      <th>device.isMobile</th>\n",
       "      <th>device.operatingSystem</th>\n",
       "      <th>...</th>\n",
       "      <th>trafficSource.adwordsClickInfo.isVideoAd</th>\n",
       "      <th>trafficSource.adwordsClickInfo.page</th>\n",
       "      <th>trafficSource.adwordsClickInfo.slot</th>\n",
       "      <th>trafficSource.campaign</th>\n",
       "      <th>trafficSource.isTrueDirect</th>\n",
       "      <th>trafficSource.keyword</th>\n",
       "      <th>trafficSource.medium</th>\n",
       "      <th>trafficSource.referralPath</th>\n",
       "      <th>trafficSource.source</th>\n",
       "      <th>hasRevenue</th>\n",
       "    </tr>\n",
       "  </thead>\n",
       "  <tbody>\n",
       "    <tr>\n",
       "      <th>0</th>\n",
       "      <td>32362</td>\n",
       "      <td>Organic Search</td>\n",
       "      <td>20161123</td>\n",
       "      <td>1873576515102506659</td>\n",
       "      <td>1</td>\n",
       "      <td>1479896783</td>\n",
       "      <td>Safari</td>\n",
       "      <td>mobile</td>\n",
       "      <td>True</td>\n",
       "      <td>iOS</td>\n",
       "      <td>...</td>\n",
       "      <td>NaN</td>\n",
       "      <td>NaN</td>\n",
       "      <td>NaN</td>\n",
       "      <td>(not set)</td>\n",
       "      <td>NaN</td>\n",
       "      <td>(not provided)</td>\n",
       "      <td>organic</td>\n",
       "      <td>NaN</td>\n",
       "      <td>google</td>\n",
       "      <td>False</td>\n",
       "    </tr>\n",
       "    <tr>\n",
       "      <th>1</th>\n",
       "      <td>670880</td>\n",
       "      <td>Social</td>\n",
       "      <td>20170224</td>\n",
       "      <td>4056856282807298046</td>\n",
       "      <td>1</td>\n",
       "      <td>1487928830</td>\n",
       "      <td>Chrome</td>\n",
       "      <td>desktop</td>\n",
       "      <td>False</td>\n",
       "      <td>Windows</td>\n",
       "      <td>...</td>\n",
       "      <td>NaN</td>\n",
       "      <td>NaN</td>\n",
       "      <td>NaN</td>\n",
       "      <td>(not set)</td>\n",
       "      <td>NaN</td>\n",
       "      <td>NaN</td>\n",
       "      <td>referral</td>\n",
       "      <td>/yt/about/</td>\n",
       "      <td>youtube.com</td>\n",
       "      <td>False</td>\n",
       "    </tr>\n",
       "    <tr>\n",
       "      <th>2</th>\n",
       "      <td>289019</td>\n",
       "      <td>Organic Search</td>\n",
       "      <td>20161106</td>\n",
       "      <td>6238615970633772107</td>\n",
       "      <td>1</td>\n",
       "      <td>1478496118</td>\n",
       "      <td>Chrome</td>\n",
       "      <td>mobile</td>\n",
       "      <td>True</td>\n",
       "      <td>Android</td>\n",
       "      <td>...</td>\n",
       "      <td>NaN</td>\n",
       "      <td>NaN</td>\n",
       "      <td>NaN</td>\n",
       "      <td>(not set)</td>\n",
       "      <td>NaN</td>\n",
       "      <td>(not provided)</td>\n",
       "      <td>organic</td>\n",
       "      <td>NaN</td>\n",
       "      <td>google</td>\n",
       "      <td>False</td>\n",
       "    </tr>\n",
       "    <tr>\n",
       "      <th>3</th>\n",
       "      <td>681288</td>\n",
       "      <td>Organic Search</td>\n",
       "      <td>20170411</td>\n",
       "      <td>61850577046711139</td>\n",
       "      <td>1</td>\n",
       "      <td>1491906643</td>\n",
       "      <td>Chrome</td>\n",
       "      <td>desktop</td>\n",
       "      <td>False</td>\n",
       "      <td>Macintosh</td>\n",
       "      <td>...</td>\n",
       "      <td>NaN</td>\n",
       "      <td>NaN</td>\n",
       "      <td>NaN</td>\n",
       "      <td>(not set)</td>\n",
       "      <td>NaN</td>\n",
       "      <td>(not provided)</td>\n",
       "      <td>organic</td>\n",
       "      <td>NaN</td>\n",
       "      <td>google</td>\n",
       "      <td>False</td>\n",
       "    </tr>\n",
       "    <tr>\n",
       "      <th>4</th>\n",
       "      <td>383766</td>\n",
       "      <td>Organic Search</td>\n",
       "      <td>20170403</td>\n",
       "      <td>8123597710598032029</td>\n",
       "      <td>1</td>\n",
       "      <td>1491282940</td>\n",
       "      <td>Chrome</td>\n",
       "      <td>desktop</td>\n",
       "      <td>False</td>\n",
       "      <td>Windows</td>\n",
       "      <td>...</td>\n",
       "      <td>NaN</td>\n",
       "      <td>NaN</td>\n",
       "      <td>NaN</td>\n",
       "      <td>(not set)</td>\n",
       "      <td>NaN</td>\n",
       "      <td>(not provided)</td>\n",
       "      <td>organic</td>\n",
       "      <td>NaN</td>\n",
       "      <td>google</td>\n",
       "      <td>False</td>\n",
       "    </tr>\n",
       "  </tbody>\n",
       "</table>\n",
       "<p>5 rows × 35 columns</p>\n",
       "</div>"
      ],
      "text/plain": [
       "    index channelGrouping      date        fullVisitorId  visitNumber  \\\n",
       "0   32362  Organic Search  20161123  1873576515102506659            1   \n",
       "1  670880          Social  20170224  4056856282807298046            1   \n",
       "2  289019  Organic Search  20161106  6238615970633772107            1   \n",
       "3  681288  Organic Search  20170411    61850577046711139            1   \n",
       "4  383766  Organic Search  20170403  8123597710598032029            1   \n",
       "\n",
       "   visitStartTime device.browser device.deviceCategory  device.isMobile  \\\n",
       "0      1479896783         Safari                mobile             True   \n",
       "1      1487928830         Chrome               desktop            False   \n",
       "2      1478496118         Chrome                mobile             True   \n",
       "3      1491906643         Chrome               desktop            False   \n",
       "4      1491282940         Chrome               desktop            False   \n",
       "\n",
       "  device.operatingSystem     ...     trafficSource.adwordsClickInfo.isVideoAd  \\\n",
       "0                    iOS     ...                                          NaN   \n",
       "1                Windows     ...                                          NaN   \n",
       "2                Android     ...                                          NaN   \n",
       "3              Macintosh     ...                                          NaN   \n",
       "4                Windows     ...                                          NaN   \n",
       "\n",
       "  trafficSource.adwordsClickInfo.page trafficSource.adwordsClickInfo.slot  \\\n",
       "0                                 NaN                                 NaN   \n",
       "1                                 NaN                                 NaN   \n",
       "2                                 NaN                                 NaN   \n",
       "3                                 NaN                                 NaN   \n",
       "4                                 NaN                                 NaN   \n",
       "\n",
       "  trafficSource.campaign trafficSource.isTrueDirect trafficSource.keyword  \\\n",
       "0              (not set)                        NaN        (not provided)   \n",
       "1              (not set)                        NaN                   NaN   \n",
       "2              (not set)                        NaN        (not provided)   \n",
       "3              (not set)                        NaN        (not provided)   \n",
       "4              (not set)                        NaN        (not provided)   \n",
       "\n",
       "  trafficSource.medium  trafficSource.referralPath  trafficSource.source  \\\n",
       "0              organic                         NaN                google   \n",
       "1             referral                  /yt/about/           youtube.com   \n",
       "2              organic                         NaN                google   \n",
       "3              organic                         NaN                google   \n",
       "4              organic                         NaN                google   \n",
       "\n",
       "   hasRevenue  \n",
       "0       False  \n",
       "1       False  \n",
       "2       False  \n",
       "3       False  \n",
       "4       False  \n",
       "\n",
       "[5 rows x 35 columns]"
      ]
     },
     "execution_count": 4,
     "metadata": {},
     "output_type": "execute_result"
    }
   ],
   "source": [
    "dfTrain.head()"
   ]
  },
  {
   "cell_type": "code",
   "execution_count": 5,
   "metadata": {},
   "outputs": [],
   "source": [
    "def checkCol(df, colName, isCata = True):\n",
    "    numRow = df.shape[0]\n",
    "    print(colName, ':')\n",
    "    print('Any NA?: ', df[colName].isnull().values.any())\n",
    "    if df[colName].isnull().values.any():\n",
    "        numNA = sum(df[colName].isnull().values)\n",
    "        print ('    # of NA: ', numNA)\n",
    "        print ('    NA%:     ', numNA/numRow)\n",
    "    if isCata:\n",
    "        levelList = df[colName].unique()\n",
    "        print('Different levels: ', len(levelList), levelList)\n",
    "        speList = ['(not set)', '(not provided)', '(none)', '(Other)']\n",
    "        for spe in speList:\n",
    "            if spe in levelList:\n",
    "                print(spe, 'percentage: ', sum(df[colName] == spe)/numRow)\n",
    "        matplotlib.rcParams['figure.figsize'] = (12, 6)\n",
    "        sns.catplot(y=colName, kind=\"count\", data=dfTrain)\n",
    "        \n",
    "    else:\n",
    "        print('range: ', min(df[colName].astype(float).dropna()), max(df[colName].astype(float).dropna()))\n",
    "        plt.hist(df[colName])"
   ]
  },
  {
   "cell_type": "code",
   "execution_count": 37,
   "metadata": {},
   "outputs": [
    {
     "name": "stdout",
     "output_type": "stream",
     "text": [
      "trafficSource.source :\n",
      "Any NA?:  False\n",
      "Different levels:  356 ['google' 'youtube.com' '(direct)' 'mall.googleplex.com'\n",
      " 'analytics.google.com' 'Partners' 'dfa' 'm.facebook.com' 't.co'\n",
      " 'quora.com' 'groups.google.com' 'yahoo' 'google.com' 'blognone.com'\n",
      " 'facebook.com' 'mail.google.com' 'baidu' 'duckduckgo.com'\n",
      " 'l.facebook.com' 'google.co.jp' 'gist.github.com' 'bing'\n",
      " 'sites.google.com' 'qiita.com' 'googleux.perksplus.com' 'reddit.com'\n",
      " '(not set)' 'plus.url.google.com' 'wap.sogou.com' 'm.yz.sm.cn'\n",
      " 'sashihara.jp' 'ask' 'siliconvalley.about.com' 'moma.corp.google.com'\n",
      " 'google.nl' 'm.baidu.com' 'productforums.google.com' 'seroundtable.com'\n",
      " 'blog.golang.org' 'learn.colorado.edu' 'google.co.uk'\n",
      " 'adwords-displayads.googleusercontent.com' 'docs.google.com'\n",
      " 'images.google' 'businessinsider.com' 'googleweblight.com'\n",
      " 'plus.google.com' 's0.2mdn.net' 'gdeals.googleplex.com'\n",
      " 'suche.t-online.de' 'phandroid.com' 'google.be'\n",
      " 'googleads.g.doubleclick.net' 'dealspotr.com' 'cv.il3.ub.edu'\n",
      " 'h.yandex-team.ru' 'google.com.ar' 'tpc.googlesyndication.com'\n",
      " 'google.ca' 'feedly.com' 'cases.corp.google.com'\n",
      " '0.shared.bow.cat2.ads-bow.yw.borg.google.com:9835' 'google.it' 'vk.com'\n",
      " 'away.vk.com' 'github.com' 'keep.google.com' 'connect.googleforwork.com'\n",
      " 'hangouts.google.com' 'searchlock.com'\n",
      " 'gtm-preprod-dogfood.corp.google.com' 'adwords.google.com'\n",
      " 'web.facebook.com' 'myactivity.google.com' 'msn.com'\n",
      " 'course.fso.fullsail.edu' 'support.google.com' 'google.co.in'\n",
      " 'search.mysearch.com' 'getpocket.com' 'bing.com' 'images.google.de'\n",
      " 'trainup.withgoogle.com' 'optimize.google.com' 'es.search.yahoo.com'\n",
      " 'm.reddit.com' 'en.wikipedia.org' 'nordic.businessinsider.com'\n",
      " 'plus.sandbox.google.com' 'uk.businessinsider.com' 'wanelo.com'\n",
      " 'int.search.tb.ask.com' 'images.google.co.id' 'search.xfinity.com'\n",
      " 'cl-cards.googleplex.com' 'fr.yhs4.search.yahoo.com'\n",
      " 'watchword.googleplex.com' 'outlook.live.com' 'lunametrics.com'\n",
      " 'arstechnica.com' 'm.sogou.com' 'calendar.google.com' 'google.co.th'\n",
      " 'google.es' 'google.com.br' 'uweoconnect.extn.washington.edu'\n",
      " '0.shared.bow.cat2.ads-bow.vu.borg.google.com:9856' 'us.search.yahoo.com'\n",
      " 'admin.globalaccess.com' 'lm.facebook.com' 'squishable.com'\n",
      " 'malaysia.search.yahoo.com' 'google.de' 'flipboard.com'\n",
      " 'awics.corp.google.com' 'gatewaycdi.com' 'm.youtube.com'\n",
      " 'l.messenger.com' 'google.ru' 'apis.mail.yahoo.com'\n",
      " 'datastudio.google.com' 'google.co.id' 'online-metrics.com'\n",
      " 'learn.temple.edu' 'xbidprodmirror.corp.google.com'\n",
      " 'luyaochen.mtv.corp.google.com:8080' 'dena-design.qiita.com'\n",
      " 'analytics.corp.google.com' 'dynamite.sandbox.google.com' 'linkedin.com'\n",
      " 'crowdcompute.googleplex.com'\n",
      " '0.shared.bow.cat2.ads-bow.qk.borg.google.com:9859'\n",
      " '0.shared.bow.cat2.ads-bow.yw.borg.google.com:9839' 'm.vk.com'\n",
      " 'staging.talkgadget.google.com' 'newclasses.nyu.edu' 'businessinsider.in'\n",
      " 'amazon.com' 'mg.mail.yahoo.com' 'notifications.sandbox.google.com'\n",
      " 'grow.googleplex.com' 'kidrex.org' 'search.earthlink.net'\n",
      " 'search.tb.ask.com' 'm.sp.sm.cn' 'ddimitrop.irv.corp.google.com:9001'\n",
      " 'svirkar.mtv.corp.google.com:8888'\n",
      " '0.shared.bow.cat2.ads-bow.yw.borg.google.com:9862' 'google.com.mx'\n",
      " 'ca.search.yahoo.com' 'google.co.il' 'fr.search.yahoo.com'\n",
      " 'csfirst.withgoogle.com' 'google.com.hk' 'startpage.com'\n",
      " 'images.google.ie' 'in.search.yahoo.com' 'uk.search.yahoo.com'\n",
      " 'adwords-next-devel.qa.adz.google.com' 'pinterest.com' 'images.google.fr'\n",
      " 'kik.com' 'google.com.pk' 'google.com.co' 'messenger.com'\n",
      " 'redbull.corp.google.com' 'au.search.yahoo.com' 'so.com'\n",
      " 'marketingland.com' 'gophergala.com' 'biztools.corp.google.com'\n",
      " 'chat.google.com' 'tw.search.yahoo.com' 'br.search.yahoo.com' 'baidu.com'\n",
      " 'google.com.tw' 'images.google.lk' 'web.telegram.org'\n",
      " 'business.facebook.com' '9to5google.com' 'new.vk.com' 'cn.bing.com'\n",
      " 'int.search.mywebsearch.com' 'wheretoget.it'\n",
      " '0.shared.bow.cat2.ads-bow.yw.borg.google.com:9880'\n",
      " 'brewmaster.corp.google.com' 's7-eu4.ixquick.com'\n",
      " '0.shared.bow.cat2.ads-bow.lf.borg.google.com:9860'\n",
      " '0.shared.bow.cat2.ads-bow.vu.borg.google.com:9883' 'msn' 'drawnames.com'\n",
      " 'sg.search.yahoo.com' 'google.com.au' 'm.mg.mail.yahoo.com'\n",
      " '0.shared.bow.cat2.ads-bow.vk.borg.google.com:9878' 'aulagrado.esic.edu'\n",
      " 'moodle.aurora.edu' 'gsuite.google.com' 'col128.mail.live.com'\n",
      " 'finance.yahoo.com' 'web.mail.comcast.net'\n",
      " '0.shared.bow.cat2.ads-bow.vw.borg.google.com:9891' 'localhost'\n",
      " 'google.gr' 'google.se' 'desktop.google.com.ua'\n",
      " '0.shared.bow.cat2.ads-bow.qk.borg.google.com:9830' 'google.pl'\n",
      " '0.shared.bow.cat2.ads-bow.yw.borg.google.com:9816' 'id.search.yahoo.com'\n",
      " '0.muppet1.frontend.gws.muppet-exp.ij-q.borg.google.com:14634'\n",
      " 'mysearch.com' 'google.fr' 'voice.google.com' 'twitter.com'\n",
      " '0.shared.bow.cat2.ads-bow.qk.borg.google.com:9873'\n",
      " '0.shared.bow.cat2.ads-bow.tl.borg.google.com:9847'\n",
      " '0.shared.bow.cat2.ads-bow.yw.borg.google.com:9836'\n",
      " 'g3doc.corp.google.com' 'aol' 'mail.verizon.com' 'ps-dm.reddit.com'\n",
      " 'search.1and1.com' 'ics-devel-west.qa.adz.google.com'\n",
      " '0.shared.bow.cat2.ads-bow.lf.borg.google.com:9817'\n",
      " '0.shared.bow.cat2.ads-bow.yw.borg.google.com:9856'\n",
      " '0.shared.bow.cat2.ads-bow.yw.borg.google.com:9865' 'cc.csusm.edu'\n",
      " 'search.incredibar.com' 'evernote.com' 'us-mg5.mail.yahoo.com'\n",
      " 'prod.facebook.com' 'images.google.pt'\n",
      " 'fletch.teams.x20web.corp.google.com' 'ex.fit.edu' 'web.skype.com'\n",
      " 'google.com.ua' 'lnkd.in'\n",
      " '0.shared.bow.cat2.ads-bow.yw.borg.google.com:9847'\n",
      " '0.shared.bow.cat2.ads-bow.yw.borg.google.com:9861' 'dailydot.com'\n",
      " '0.shared.bow.cat2.ads-bow.yw.borg.google.com:9849'\n",
      " 'myaccount.google.com' 'plusapp-autopush.corp.google.com'\n",
      " '0.shared.bow.cat2.ads-bow.yw.borg.google.com:9875'\n",
      " 'mail-attachment.googleusercontent.com' 'it.search.yahoo.com'\n",
      " '0.shared.bow.cat2.ads-bow.lf.borg.google.com:9898'\n",
      " '0.shared.bow.cat2.ads-bow.tg.borg.google.com:9864' 'getiriver.com'\n",
      " 'basecamp.com' 'google.com.vn' 'online.fullsail.edu' 'go.mail.ru'\n",
      " 'gtm-dogfood.corp.google.com' 'google.com.ph' 'google.ch'\n",
      " 'risk360-prod.corp.google.com' 'it.pinterest.com'\n",
      " 'kristiyan.users.x20web.corp.google.com' 'google.com.sg' 'google.cz'\n",
      " 'gdeals-stg.googleplex.com' 'centrum.cz' 'de.pinterest.com'\n",
      " 'toronto.mtv.corp.google.com:8080'\n",
      " '0.shared.bow.cat2.ads-bow.yw.borg.google.com:9850' 'google.co.za'\n",
      " 'yandex' '0.shared.bow.cat2.ads-bow.lf.borg.google.com:9857'\n",
      " 'se.search.yahoo.com' '0.shared.bow.cat2.ads-bow.yw.borg.google.com:9820'\n",
      " 'yt-go-12345.googleplex.com' 'nl.search.yahoo.com' 'good.barkpost.com'\n",
      " 'inbox.google.com' 'kr.pinterest.com' 'google.no' 'intranet'\n",
      " 'google.co.kr' 'google.bg' 'markets.businessinsider.com' 'amp.reddit.com'\n",
      " 'oct-obscura.sandbox.google.com' 'ad.doubleclick.net'\n",
      " 'tweetdeck.twitter.com' 'ph.search.yahoo.com' 'digg.com'\n",
      " 'hk.search.yahoo.com' 'search.pch.com' 'maktoob.search.yahoo.com'\n",
      " '0.shared.bow.cat2.ads-bow.qk.borg.google.com:9848' 'yahoo.com'\n",
      " 'adwords-next-nightly.qa.adz.google.com' 'google.ro' 'google.co.nz'\n",
      " 'meetup.com' '0.shared.bow.cat2.ads-bow.vu.borg.google.com:9859'\n",
      " 'adwords-displayads-nightly.corp.google.com' 'search.myway.com'\n",
      " 'plusapp.sandbox.google.com' 'ixquick.com' 'mx.search.yahoo.com'\n",
      " '0.shared.bow.cat2.ads-bow.qk.borg.google.com:9819' 'mail.aol.com'\n",
      " 'x20web.corp.google.com' 'benkraft.mtv.corp.google.com:9000'\n",
      " 'collaborate.northwestern.edu' 'papyrus.mtv.corp.google.com:9021'\n",
      " '0.shared.bow.cat2.ads-bow.yw.borg.google.com:9876' 'google.com.sa'\n",
      " 'google.at' 'search.snapdo.com'\n",
      " '0.shared.bow.cat2.ads-bow.yw.borg.google.com:9813' 'tumblr.com'\n",
      " 'wunderbin.corp.google.com' 'us.wow.com' 'chatwork.com'\n",
      " '0.shared.bow.cat2.ads-bow.yw.borg.google.com:9859'\n",
      " 'us.yhs4.search.yahoo.com' 'news.ycombinator.com' 'images.google.lt'\n",
      " 'ausdroid.net' 'images.google.com.au'\n",
      " '0.shared.bow.cat2.ads-bow.qk.borg.google.com:9801'\n",
      " '0.shared.bow.cat2.ads-bow.yw.borg.google.com:9896'\n",
      " '0.shared.bow.cat2.ads-bow.yw.borg.google.com:9892' 'takeout.google.com'\n",
      " 'start.wow.com' 'google.cl' 'hosted.verticalresponse.com' 'google.com.ng'\n",
      " 'goto.google.com' 'spaces.google.com' 'members.s7.exacttarget.com'\n",
      " 'earth.google.com' '0.shared.bow.cat2.ads-bow.qk.borg.google.com:9885'\n",
      " '0.shared.bow.cat2.ads-bow.qk.borg.google.com:9846'\n",
      " 'adwords-prod-west.qa.adz.google.com' 'blackboard.neu.edu'\n",
      " 'pinpoint.corp.google.com' 'oscar.corp.google.com'\n",
      " '0.shared.bow.cat2.ads-bow.yw.borg.google.com:9885'\n",
      " 'google.gatewaycdi.com' 'mmisciagna2.sbo.corp.google.com:8000'\n",
      " 'google.rs' 'web.whatsapp.com' 'growcms.googleplex.com'\n",
      " 'login.corp.google.com'\n",
      " '0.shared.bow.cat2.ads-bow.yw.borg.google.com:9898'\n",
      " '0.shared.bow.cat2.ads-bow.yw.borg.google.com:9801'\n",
      " 'invincible.mtv.corp.google.com:8080'\n",
      " '0.shared.bow.cat2.ads-bow.lf.borg.google.com:9824' 'us.reddit.com'\n",
      " '0.shared.bow.cat2.ads-bow.qk.borg.google.com:9834' 'google.lk']\n",
      "(not set) percentage:  8.437978094455556e-05\n"
     ]
    },
    {
     "name": "stderr",
     "output_type": "stream",
     "text": [
      "C:\\Users\\THINKPAD\\AppData\\Local\\Continuum\\Anaconda3\\envs\\Tensor\\lib\\site-packages\\matplotlib\\tight_layout.py:176: UserWarning: Tight layout not applied. The left and right margins cannot be made large enough to accommodate all axes decorations. \n",
      "  warnings.warn('Tight layout not applied. The left and right margins '\n"
     ]
    },
    {
     "data": {
      "image/png": "[encoded data removed]",
      "text/plain": [
       "<Figure size 360x360 with 1 Axes>"
      ]
     },
     "metadata": {
      "image/png": {
       "height": 365,
       "width": 674
      },
      "needs_background": "light"
     },
     "output_type": "display_data"
    }
   ],
   "source": [
    "checkCol(dfTrain, 'trafficSource.source')"
   ]
  },
  {
   "cell_type": "code",
   "execution_count": 6,
   "metadata": {},
   "outputs": [],
   "source": [
    "def changeCate(df, col, values, nor = False):\n",
    "    if not nor:\n",
    "        for value in values:\n",
    "            df.loc[df[col] == value, col] = 'other'\n",
    "    else:\n",
    "        df.loc[~df[col].isin(values), col] = 'other'\n",
    "    return df"
   ]
  },
  {
   "cell_type": "code",
   "execution_count": 7,
   "metadata": {},
   "outputs": [],
   "source": [
    "def preprocess(df):\n",
    "    drop_col = list(df.filter(regex = 'trafficSource.adwordsClickInfo.+').columns.values)\n",
    "    drop_col.extend(['index', 'date', 'device.deviceCategory', 'geoNetwork.city',\n",
    "                     'geoNetwork.continent', 'geoNetwork.country', 'geoNetwork.metro', 'geoNetwork.region',\n",
    "                     'trafficSource.adContent', 'trafficSource.keyword', 'trafficSource.referralPath'])\n",
    "    df = df.drop(drop_col, axis = 1)\n",
    "    df = changeCate(df, 'channelGrouping', ['Affiliates', 'Paid Search', 'Display', '(Other)'])\n",
    "    df = changeCate(df, 'device.browser', ['Safari', 'Chrome'], nor = True)\n",
    "    df = changeCate(df, 'device.operatingSystem', ['iOS', 'Windows', 'Android', 'Macintosh'], nor = True)\n",
    "    df = changeCate(df, 'geoNetwork.networkDomain', ['(not set)', 'unknown.unknown'], nor = True)\n",
    "    df = changeCate(df, 'geoNetwork.subContinent', ['Southeast Asia', 'Northern America', 'Southern Asia',\n",
    "                                                    'Eastern Asia', 'Western Europe', 'Western Asia', 'Southern Europe',\n",
    "                                                    'Northern Europe', 'South America', 'Eastern Europe'], nor = True)\n",
    "    df = changeCate(df, 'trafficSource.campaign', ['(not set)'], nor = True)\n",
    "    df['trafficSource.isTrueDirect'].fillna(False, inplace=True)\n",
    "    df = changeCate(df, 'trafficSource.medium', ['organic', 'referral', '(none)'], nor = True)\n",
    "    df = changeCate(df, 'trafficSource.source', ['google', 'youtube.com', '(direct)', 'mall.googleplex.com'], nor = True)\n",
    "    return df"
   ]
  },
  {
   "cell_type": "code",
   "execution_count": 24,
   "metadata": {},
   "outputs": [],
   "source": [
    "def preprocess2(df):\n",
    "    \n",
    "    return df"
   ]
  },
  {
   "cell_type": "code",
   "execution_count": 8,
   "metadata": {},
   "outputs": [],
   "source": [
    "train = preprocess(dfTrain)\n",
    "cateCols = ['channelGrouping', 'device.browser', 'device.isMobile', 'device.operatingSystem', \n",
    "            'geoNetwork.networkDomain', 'geoNetwork.subContinent', 'totals.bounces', 'totals.newVisits',\n",
    "            'trafficSource.campaign', 'trafficSource.isTrueDirect', 'trafficSource.medium', 'trafficSource.source']\n",
    "for col in cateCols:\n",
    "    lbl = preprocessing.LabelEncoder()\n",
    "    lbl.fit(list(train[col].values.astype('str')))\n",
    "    train[col] = lbl.transform(list(train[col].values.astype('str')))\n",
    "\n",
    "numCols = ['visitNumber', 'visitStartTime', 'totals.hits', 'totals.pageviews']"
   ]
  },
  {
   "cell_type": "code",
   "execution_count": 9,
   "metadata": {},
   "outputs": [],
   "source": [
    "test = preprocess(dfTest)\n",
    "for col in cateCols:\n",
    "    lbl = preprocessing.LabelEncoder()\n",
    "    lbl.fit(list(test[col].values.astype('str')))\n",
    "    test[col] = lbl.transform(list(test[col].values.astype('str')))"
   ]
  },
  {
   "cell_type": "code",
   "execution_count": 41,
   "metadata": {},
   "outputs": [
    {
     "data": {
      "text/plain": [
       "Index(['channelGrouping', 'fullVisitorId', 'visitNumber', 'visitStartTime',\n",
       "       'device.browser', 'device.isMobile', 'device.operatingSystem',\n",
       "       'geoNetwork.networkDomain', 'geoNetwork.subContinent', 'totals.bounces',\n",
       "       'totals.hits', 'totals.newVisits', 'totals.pageviews',\n",
       "       'totals.transactionRevenue', 'trafficSource.campaign',\n",
       "       'trafficSource.isTrueDirect', 'trafficSource.medium',\n",
       "       'trafficSource.source', 'hasRevenue'],\n",
       "      dtype='object')"
      ]
     },
     "execution_count": 41,
     "metadata": {},
     "output_type": "execute_result"
    }
   ],
   "source": [
    "train.head()\n",
    "train.columns"
   ]
  },
  {
   "cell_type": "code",
   "execution_count": 10,
   "metadata": {},
   "outputs": [],
   "source": [
    "for cols in cateCols:\n",
    "    train[cols] = train[cols].astype('category')\n",
    "#train[cateCols] = train[cateCols].astype('category')\n",
    "trainset, valset = train_test_split(train, test_size=0.2, random_state = 1)\n",
    "train_X = trainset[cateCols + numCols]\n",
    "train_y = np.log(trainset['totals.transactionRevenue'].values + 1)\n",
    "val_X = valset[cateCols + numCols]\n",
    "val_y = np.log(valset['totals.transactionRevenue'].values + 1)"
   ]
  },
  {
   "cell_type": "code",
   "execution_count": 11,
   "metadata": {},
   "outputs": [],
   "source": [
    "for cols in cateCols:\n",
    "    test[cols] = test[cols].astype('category')\n",
    "test_X = test[cateCols + numCols]\n",
    "test_y = np.log(test['totals.transactionRevenue'].values + 1)"
   ]
  },
  {
   "cell_type": "code",
   "execution_count": 43,
   "metadata": {},
   "outputs": [
    {
     "data": {
      "text/plain": [
       "channelGrouping               category\n",
       "device.browser                category\n",
       "device.isMobile               category\n",
       "device.operatingSystem        category\n",
       "geoNetwork.networkDomain      category\n",
       "geoNetwork.subContinent       category\n",
       "totals.bounces                category\n",
       "totals.newVisits              category\n",
       "trafficSource.campaign        category\n",
       "trafficSource.isTrueDirect    category\n",
       "trafficSource.medium          category\n",
       "trafficSource.source          category\n",
       "visitNumber                      int64\n",
       "visitStartTime                   int64\n",
       "totals.hits                      int64\n",
       "totals.pageviews                 int64\n",
       "dtype: object"
      ]
     },
     "execution_count": 43,
     "metadata": {},
     "output_type": "execute_result"
    }
   ],
   "source": [
    "train_X.dtypes"
   ]
  },
  {
   "cell_type": "code",
   "execution_count": 78,
   "metadata": {},
   "outputs": [
    {
     "data": {
      "text/plain": [
       "channelGrouping               category\n",
       "device.browser                category\n",
       "device.isMobile               category\n",
       "device.operatingSystem        category\n",
       "geoNetwork.networkDomain      category\n",
       "geoNetwork.subContinent       category\n",
       "totals.bounces                category\n",
       "totals.newVisits              category\n",
       "trafficSource.campaign        category\n",
       "trafficSource.isTrueDirect    category\n",
       "trafficSource.medium          category\n",
       "trafficSource.source          category\n",
       "visitNumber                      int64\n",
       "visitStartTime                   int64\n",
       "totals.hits                      int64\n",
       "totals.pageviews                 int64\n",
       "dtype: object"
      ]
     },
     "execution_count": 78,
     "metadata": {},
     "output_type": "execute_result"
    }
   ],
   "source": [
    "test_X.dtypes"
   ]
  },
  {
   "cell_type": "code",
   "execution_count": 12,
   "metadata": {},
   "outputs": [],
   "source": [
    "def pr_auc_score(y_true, y_score):\n",
    "    \"\"\"\n",
    "    Generates the Area Under the Curve for precision and recall.\n",
    "    \"\"\"\n",
    "    precision, recall, thresholds = \\\n",
    "        precision_recall_curve(y_true, y_score)\n",
    "    return auc(recall, precision, reorder=True)"
   ]
  },
  {
   "cell_type": "markdown",
   "metadata": {},
   "source": [
    "#### LGBoost"
   ]
  },
  {
   "cell_type": "code",
   "execution_count": 24,
   "metadata": {
    "scrolled": true
   },
   "outputs": [],
   "source": [
    "def run_lgb(train_X, train_y, val_X, val_y):\n",
    "    params = {\n",
    "        \"objective\" : \"regression\",\n",
    "        \"metric\" : \"rmse\", \n",
    "        \"num_leaves\" : 30,\n",
    "        \"min_child_samples\" : 100,\n",
    "        \"learning_rate\" : 0.1,\n",
    "        \"bagging_fraction\" : 0.7,\n",
    "        \"feature_fraction\" : 0.5,\n",
    "        \"bagging_frequency\" : 5,\n",
    "        \"bagging_seed\" : 2018,\n",
    "    }\n",
    "    \n",
    "    lgtrain = lgb.Dataset(train_X, label=train_y)\n",
    "    lgval = lgb.Dataset(val_X, label=val_y)\n",
    "    model = lgb.train(params, lgtrain, 1000, valid_sets=[lgval], early_stopping_rounds=100, verbose_eval=100)\n",
    "    lgb.plot_importance(model)\n",
    "    pred_val_y = model.predict(val_X, num_iteration=model.best_iteration)\n",
    "    return model, pred_val_y\n"
   ]
  },
  {
   "cell_type": "code",
   "execution_count": 25,
   "metadata": {},
   "outputs": [],
   "source": [
    "train_X_LR = trainset[cateCols + numCols]\n",
    "train_y_LR = np.log(trainset['totals.transactionRevenue'].values + 1)\n",
    "val_X_LR = valset[cateCols + numCols]\n",
    "val_y_LR = np.log(valset['totals.transactionRevenue'].values + 1)\n",
    "test_X_LR = test[cateCols + numCols]\n",
    "test_y_LR = np.log(test['totals.transactionRevenue'].values + 1)"
   ]
  },
  {
   "cell_type": "code",
   "execution_count": 26,
   "metadata": {},
   "outputs": [
    {
     "name": "stdout",
     "output_type": "stream",
     "text": [
      "Training until validation scores don't improve for 100 rounds.\n",
      "[100]\tvalid_0's rmse: 1.65752\n",
      "[200]\tvalid_0's rmse: 1.65083\n",
      "[300]\tvalid_0's rmse: 1.64671\n",
      "[400]\tvalid_0's rmse: 1.64943\n",
      "Early stopping, best iteration is:\n",
      "[303]\tvalid_0's rmse: 1.64643\n"
     ]
    },
    {
     "data": {
      "image/png": "[encoded data removed]",
      "text/plain": [
       "<Figure size 432x288 with 1 Axes>"
      ]
     },
     "metadata": {
      "image/png": {
       "height": 277,
       "width": 514
      },
      "needs_background": "light"
     },
     "output_type": "display_data"
    }
   ],
   "source": [
    "model, pred_val_y = run_lgb(train_X_LR, train_y_LR, val_X_LR, val_y_LR)"
   ]
  },
  {
   "cell_type": "code",
   "execution_count": 27,
   "metadata": {},
   "outputs": [
    {
     "name": "stdout",
     "output_type": "stream",
     "text": [
      "1.6444851960168054\n"
     ]
    }
   ],
   "source": [
    "pred_val_y[pred_val_y<0] = 0\n",
    "print(np.sqrt(metrics.mean_squared_error(val_y_LR, pred_val_y)))"
   ]
  },
  {
   "cell_type": "markdown",
   "metadata": {},
   "source": [
    "##### Test"
   ]
  },
  {
   "cell_type": "code",
   "execution_count": 17,
   "metadata": {},
   "outputs": [
    {
     "name": "stderr",
     "output_type": "stream",
     "text": [
      "C:\\Users\\THINKPAD\\AppData\\Local\\Continuum\\Anaconda3\\envs\\Tensor\\lib\\site-packages\\lightgbm\\basic.py:752: UserWarning: categorical_feature in param dict is overridden.\n",
      "  warnings.warn('categorical_feature in param dict is overridden.')\n"
     ]
    },
    {
     "name": "stdout",
     "output_type": "stream",
     "text": [
      "Training until validation scores don't improve for 100 rounds.\n",
      "[100]\tvalid_0's rmse: 1.63642\n",
      "[200]\tvalid_0's rmse: 1.62901\n",
      "[300]\tvalid_0's rmse: 1.62599\n",
      "Early stopping, best iteration is:\n",
      "[269]\tvalid_0's rmse: 1.62562\n"
     ]
    }
   ],
   "source": [
    "model, pred_test_y = run_lgb(train_X_LR, train_y_LR, test_X_LR, test_y_LR)"
   ]
  },
  {
   "cell_type": "code",
   "execution_count": 18,
   "metadata": {},
   "outputs": [
    {
     "name": "stdout",
     "output_type": "stream",
     "text": [
      "1.6235739760203485\n"
     ]
    }
   ],
   "source": [
    "pred_test_y[pred_test_y<0] = 0\n",
    "print(np.sqrt(metrics.mean_squared_error(test_y_LR, pred_test_y)))"
   ]
  },
  {
   "cell_type": "markdown",
   "metadata": {},
   "source": [
    "### Classification"
   ]
  },
  {
   "cell_type": "markdown",
   "metadata": {
    "collapsed": true
   },
   "source": [
    "#### Logistic regression"
   ]
  },
  {
   "cell_type": "code",
   "execution_count": 118,
   "metadata": {},
   "outputs": [],
   "source": [
    "train_X_LRC = trainset[cateCols + numCols]\n",
    "train_y_LRC = trainset['hasRevenue'].values\n",
    "val_X_LRC = valset[cateCols + numCols]\n",
    "val_y_LRC = valset['hasRevenue'].values\n",
    "test_X_LRC = test[cateCols + numCols]\n",
    "test_y_LRC = test['hasRevenue'].values"
   ]
  },
  {
   "cell_type": "code",
   "execution_count": 81,
   "metadata": {},
   "outputs": [
    {
     "name": "stderr",
     "output_type": "stream",
     "text": [
      "C:\\Users\\THINKPAD\\AppData\\Roaming\\Python\\Python36\\site-packages\\sklearn\\preprocessing\\data.py:617: DataConversionWarning: Data with input dtype int64 were all converted to float64 by StandardScaler.\n",
      "  return self.partial_fit(X, y)\n",
      "C:\\Users\\THINKPAD\\AppData\\Roaming\\Python\\Python36\\site-packages\\sklearn\\base.py:465: DataConversionWarning: Data with input dtype int64 were all converted to float64 by StandardScaler.\n",
      "  return self.fit(X, y, **fit_params).transform(X)\n",
      "C:\\Users\\THINKPAD\\AppData\\Roaming\\Python\\Python36\\site-packages\\sklearn\\linear_model\\logistic.py:757: ConvergenceWarning: lbfgs failed to converge. Increase the number of iterations.\n",
      "  \"of iterations.\", ConvergenceWarning)\n",
      "C:\\Users\\THINKPAD\\AppData\\Roaming\\Python\\Python36\\site-packages\\sklearn\\pipeline.py:451: DataConversionWarning: Data with input dtype int64 were all converted to float64 by StandardScaler.\n",
      "  Xt = transform.transform(Xt)\n"
     ]
    },
    {
     "name": "stdout",
     "output_type": "stream",
     "text": [
      "model score: 0.988\n"
     ]
    }
   ],
   "source": [
    "numeric_transformer = Pipeline(steps=[('scaler', StandardScaler())])\n",
    "categorical_transformer = Pipeline(steps=[('onehot', OneHotEncoder(handle_unknown='ignore'))])\n",
    "preprocessor = ColumnTransformer(transformers=[('num', numeric_transformer, numCols),\n",
    "                                               ('cat', categorical_transformer, cateCols)])\n",
    "clf = Pipeline(steps=[('preprocessor', preprocessor),\n",
    "                      ('classifier', LogisticRegression(solver='lbfgs'))])\n",
    "\n",
    "clf.fit(train_X_LRC, train_y_LRC)\n",
    "print(\"model score: %.3f\" % clf.score(val_X_LRC, val_y_LRC))"
   ]
  },
  {
   "cell_type": "code",
   "execution_count": 82,
   "metadata": {},
   "outputs": [
    {
     "name": "stderr",
     "output_type": "stream",
     "text": [
      "C:\\Users\\THINKPAD\\AppData\\Roaming\\Python\\Python36\\site-packages\\sklearn\\pipeline.py:451: DataConversionWarning: Data with input dtype int64 were all converted to float64 by StandardScaler.\n",
      "  Xt = transform.transform(Xt)\n"
     ]
    },
    {
     "name": "stdout",
     "output_type": "stream",
     "text": [
      "              precision    recall  f1-score   support\n",
      "\n",
      "       False       0.99      1.00      0.99    142739\n",
      "        True       0.53      0.19      0.28      1846\n",
      "\n",
      "   micro avg       0.99      0.99      0.99    144585\n",
      "   macro avg       0.76      0.60      0.64    144585\n",
      "weighted avg       0.98      0.99      0.98    144585\n",
      "\n"
     ]
    },
    {
     "name": "stderr",
     "output_type": "stream",
     "text": [
      "C:\\Users\\THINKPAD\\AppData\\Roaming\\Python\\Python36\\site-packages\\sklearn\\pipeline.py:451: DataConversionWarning: Data with input dtype int64 were all converted to float64 by StandardScaler.\n",
      "  Xt = transform.transform(Xt)\n"
     ]
    },
    {
     "name": "stdout",
     "output_type": "stream",
     "text": [
      "0.5950469307347945\n"
     ]
    }
   ],
   "source": [
    "\n",
    "print(classification_report(val_y_LRC, clf.predict(val_X_LRC)))\n",
    "print(roc_auc_score(val_y_LRC, clf.predict(val_X_LRC)))"
   ]
  },
  {
   "cell_type": "code",
   "execution_count": 83,
   "metadata": {},
   "outputs": [
    {
     "name": "stderr",
     "output_type": "stream",
     "text": [
      "C:\\Users\\THINKPAD\\AppData\\Roaming\\Python\\Python36\\site-packages\\sklearn\\pipeline.py:451: DataConversionWarning: Data with input dtype int64 were all converted to float64 by StandardScaler.\n",
      "  Xt = transform.transform(Xt)\n",
      "C:\\Users\\THINKPAD\\AppData\\Roaming\\Python\\Python36\\site-packages\\sklearn\\metrics\\ranking.py:104: DeprecationWarning: The 'reorder' parameter has been deprecated in version 0.20 and will be removed in 0.22. It is recommended not to set 'reorder' and ensure that x is monotonic increasing or monotonic decreasing.\n",
      "  DeprecationWarning)\n"
     ]
    },
    {
     "data": {
      "text/plain": [
       "0.4022902540256168"
      ]
     },
     "execution_count": 83,
     "metadata": {},
     "output_type": "execute_result"
    }
   ],
   "source": [
    "pr_auc_score(val_y_LRC, clf.predict_proba(val_X_LRC)[:,1])"
   ]
  },
  {
   "cell_type": "code",
   "execution_count": 91,
   "metadata": {},
   "outputs": [
    {
     "name": "stderr",
     "output_type": "stream",
     "text": [
      "C:\\Users\\THINKPAD\\AppData\\Roaming\\Python\\Python36\\site-packages\\sklearn\\pipeline.py:451: DataConversionWarning: Data with input dtype int64 were all converted to float64 by StandardScaler.\n",
      "  Xt = transform.transform(Xt)\n"
     ]
    },
    {
     "data": {
      "text/plain": [
       "(array([0.        , 0.00221383, 1.        ]),\n",
       " array([0.        , 0.19230769, 1.        ]),\n",
       " array([2, 1, 0]))"
      ]
     },
     "execution_count": 91,
     "metadata": {},
     "output_type": "execute_result"
    }
   ],
   "source": [
    "roc_curve(val_y_LRC, clf.predict(val_X_LRC))"
   ]
  },
  {
   "cell_type": "code",
   "execution_count": 84,
   "metadata": {},
   "outputs": [
    {
     "name": "stderr",
     "output_type": "stream",
     "text": [
      "C:\\Users\\THINKPAD\\AppData\\Roaming\\Python\\Python36\\site-packages\\sklearn\\pipeline.py:451: DataConversionWarning: Data with input dtype int64 were all converted to float64 by StandardScaler.\n",
      "  Xt = transform.transform(Xt)\n"
     ]
    },
    {
     "name": "stdout",
     "output_type": "stream",
     "text": [
      "0.9782391297082643\n"
     ]
    }
   ],
   "source": [
    "print(roc_auc_score(val_y_LRC, clf.predict_proba(val_X_LRC)[:,1]))"
   ]
  },
  {
   "cell_type": "code",
   "execution_count": 86,
   "metadata": {},
   "outputs": [
    {
     "name": "stdout",
     "output_type": "stream",
     "text": [
      "threshold 0\n"
     ]
    },
    {
     "name": "stderr",
     "output_type": "stream",
     "text": [
      "C:\\Users\\THINKPAD\\AppData\\Roaming\\Python\\Python36\\site-packages\\sklearn\\pipeline.py:451: DataConversionWarning: Data with input dtype int64 were all converted to float64 by StandardScaler.\n",
      "  Xt = transform.transform(Xt)\n"
     ]
    },
    {
     "name": "stdout",
     "output_type": "stream",
     "text": [
      "0.025213240365769544\n",
      "threshold 0.1\n"
     ]
    },
    {
     "name": "stderr",
     "output_type": "stream",
     "text": [
      "C:\\Users\\THINKPAD\\AppData\\Roaming\\Python\\Python36\\site-packages\\sklearn\\pipeline.py:451: DataConversionWarning: Data with input dtype int64 were all converted to float64 by StandardScaler.\n",
      "  Xt = transform.transform(Xt)\n"
     ]
    },
    {
     "name": "stdout",
     "output_type": "stream",
     "text": [
      "0.47652625719057334\n",
      "threshold 0.2\n"
     ]
    },
    {
     "name": "stderr",
     "output_type": "stream",
     "text": [
      "C:\\Users\\THINKPAD\\AppData\\Roaming\\Python\\Python36\\site-packages\\sklearn\\pipeline.py:451: DataConversionWarning: Data with input dtype int64 were all converted to float64 by StandardScaler.\n",
      "  Xt = transform.transform(Xt)\n"
     ]
    },
    {
     "name": "stdout",
     "output_type": "stream",
     "text": [
      "0.4630781714903976\n",
      "threshold 0.3\n"
     ]
    },
    {
     "name": "stderr",
     "output_type": "stream",
     "text": [
      "C:\\Users\\THINKPAD\\AppData\\Roaming\\Python\\Python36\\site-packages\\sklearn\\pipeline.py:451: DataConversionWarning: Data with input dtype int64 were all converted to float64 by StandardScaler.\n",
      "  Xt = transform.transform(Xt)\n"
     ]
    },
    {
     "name": "stdout",
     "output_type": "stream",
     "text": [
      "0.40706260032102726\n",
      "threshold 0.4\n"
     ]
    },
    {
     "name": "stderr",
     "output_type": "stream",
     "text": [
      "C:\\Users\\THINKPAD\\AppData\\Roaming\\Python\\Python36\\site-packages\\sklearn\\pipeline.py:451: DataConversionWarning: Data with input dtype int64 were all converted to float64 by StandardScaler.\n",
      "  Xt = transform.transform(Xt)\n"
     ]
    },
    {
     "name": "stdout",
     "output_type": "stream",
     "text": [
      "0.3456254519161243\n",
      "threshold 0.5\n"
     ]
    },
    {
     "name": "stderr",
     "output_type": "stream",
     "text": [
      "C:\\Users\\THINKPAD\\AppData\\Roaming\\Python\\Python36\\site-packages\\sklearn\\pipeline.py:451: DataConversionWarning: Data with input dtype int64 were all converted to float64 by StandardScaler.\n",
      "  Xt = transform.transform(Xt)\n"
     ]
    },
    {
     "name": "stdout",
     "output_type": "stream",
     "text": [
      "0.2820818434644418\n",
      "threshold 0.6\n"
     ]
    },
    {
     "name": "stderr",
     "output_type": "stream",
     "text": [
      "C:\\Users\\THINKPAD\\AppData\\Roaming\\Python\\Python36\\site-packages\\sklearn\\pipeline.py:451: DataConversionWarning: Data with input dtype int64 were all converted to float64 by StandardScaler.\n",
      "  Xt = transform.transform(Xt)\n"
     ]
    },
    {
     "name": "stdout",
     "output_type": "stream",
     "text": [
      "0.2389193752638244\n",
      "threshold 0.7\n"
     ]
    },
    {
     "name": "stderr",
     "output_type": "stream",
     "text": [
      "C:\\Users\\THINKPAD\\AppData\\Roaming\\Python\\Python36\\site-packages\\sklearn\\pipeline.py:451: DataConversionWarning: Data with input dtype int64 were all converted to float64 by StandardScaler.\n",
      "  Xt = transform.transform(Xt)\n"
     ]
    },
    {
     "name": "stdout",
     "output_type": "stream",
     "text": [
      "0.1858603823921743\n",
      "threshold 0.8\n"
     ]
    },
    {
     "name": "stderr",
     "output_type": "stream",
     "text": [
      "C:\\Users\\THINKPAD\\AppData\\Roaming\\Python\\Python36\\site-packages\\sklearn\\pipeline.py:451: DataConversionWarning: Data with input dtype int64 were all converted to float64 by StandardScaler.\n",
      "  Xt = transform.transform(Xt)\n"
     ]
    },
    {
     "name": "stdout",
     "output_type": "stream",
     "text": [
      "0.13352139163140572\n",
      "threshold 0.9\n"
     ]
    },
    {
     "name": "stderr",
     "output_type": "stream",
     "text": [
      "C:\\Users\\THINKPAD\\AppData\\Roaming\\Python\\Python36\\site-packages\\sklearn\\pipeline.py:451: DataConversionWarning: Data with input dtype int64 were all converted to float64 by StandardScaler.\n",
      "  Xt = transform.transform(Xt)\n"
     ]
    },
    {
     "name": "stdout",
     "output_type": "stream",
     "text": [
      "0.08730158730158731\n",
      "threshold 1\n"
     ]
    },
    {
     "name": "stderr",
     "output_type": "stream",
     "text": [
      "C:\\Users\\THINKPAD\\AppData\\Roaming\\Python\\Python36\\site-packages\\sklearn\\pipeline.py:451: DataConversionWarning: Data with input dtype int64 were all converted to float64 by StandardScaler.\n",
      "  Xt = transform.transform(Xt)\n"
     ]
    },
    {
     "name": "stdout",
     "output_type": "stream",
     "text": [
      "0.0\n"
     ]
    },
    {
     "name": "stderr",
     "output_type": "stream",
     "text": [
      "C:\\Users\\THINKPAD\\AppData\\Roaming\\Python\\Python36\\site-packages\\sklearn\\metrics\\classification.py:1143: UndefinedMetricWarning: F-score is ill-defined and being set to 0.0 due to no predicted samples.\n",
      "  'precision', 'predicted', average, warn_for)\n"
     ]
    }
   ],
   "source": [
    "thresholds = [0,0.1,0.2,0.3,0.4,0.5,0.6,0.7,0.8,0.9,1]\n",
    "for t in thresholds:\n",
    "    print('threshold {}'.format(t))\n",
    "    print(f1_score(val_y_LRC, clf.predict_proba(val_X_LRC)[:,1]>t))"
   ]
  },
  {
   "cell_type": "code",
   "execution_count": 87,
   "metadata": {},
   "outputs": [
    {
     "name": "stderr",
     "output_type": "stream",
     "text": [
      "C:\\Users\\THINKPAD\\AppData\\Roaming\\Python\\Python36\\site-packages\\sklearn\\pipeline.py:451: DataConversionWarning: Data with input dtype int64 were all converted to float64 by StandardScaler.\n",
      "  Xt = transform.transform(Xt)\n"
     ]
    },
    {
     "name": "stdout",
     "output_type": "stream",
     "text": [
      "              precision    recall  f1-score   support\n",
      "\n",
      "       False       1.00      0.98      0.99    142739\n",
      "        True       0.36      0.70      0.48      1846\n",
      "\n",
      "   micro avg       0.98      0.98      0.98    144585\n",
      "   macro avg       0.68      0.84      0.73    144585\n",
      "weighted avg       0.99      0.98      0.98    144585\n",
      "\n"
     ]
    }
   ],
   "source": [
    "print(classification_report(val_y_LRC, clf.predict_proba(val_X_LRC)[:,1]>0.1))"
   ]
  },
  {
   "cell_type": "markdown",
   "metadata": {},
   "source": [
    "##### Test"
   ]
  },
  {
   "cell_type": "code",
   "execution_count": 119,
   "metadata": {},
   "outputs": [
    {
     "name": "stderr",
     "output_type": "stream",
     "text": [
      "C:\\Users\\THINKPAD\\AppData\\Roaming\\Python\\Python36\\site-packages\\sklearn\\pipeline.py:451: DataConversionWarning: Data with input dtype int64 were all converted to float64 by StandardScaler.\n",
      "  Xt = transform.transform(Xt)\n"
     ]
    },
    {
     "name": "stdout",
     "output_type": "stream",
     "text": [
      "              precision    recall  f1-score   support\n",
      "\n",
      "       False       0.99      1.00      0.99    178438\n",
      "        True       0.53      0.19      0.28      2293\n",
      "\n",
      "   micro avg       0.99      0.99      0.99    180731\n",
      "   macro avg       0.76      0.60      0.64    180731\n",
      "weighted avg       0.98      0.99      0.98    180731\n",
      "\n"
     ]
    }
   ],
   "source": [
    "print(classification_report(test_y_LRC, clf.predict(test_X_LRC)))"
   ]
  },
  {
   "cell_type": "markdown",
   "metadata": {},
   "source": [
    "#### Logistic Regression with OverSampling"
   ]
  },
  {
   "cell_type": "code",
   "execution_count": 154,
   "metadata": {},
   "outputs": [],
   "source": [
    "ros = RandomOverSampler(random_state=0, sampling_strategy = 0.05)\n",
    "X_resampled, y_resampled = ros.fit_resample(train_X_LRC, train_y_LRC)\n",
    "X_resampled = pd.DataFrame(X_resampled, columns=train_X_LRC.columns)"
   ]
  },
  {
   "cell_type": "code",
   "execution_count": 155,
   "metadata": {},
   "outputs": [
    {
     "name": "stderr",
     "output_type": "stream",
     "text": [
      "C:\\Users\\THINKPAD\\AppData\\Roaming\\Python\\Python36\\site-packages\\sklearn\\preprocessing\\data.py:617: DataConversionWarning: Data with input dtype object were all converted to float64 by StandardScaler.\n",
      "  return self.partial_fit(X, y)\n",
      "C:\\Users\\THINKPAD\\AppData\\Roaming\\Python\\Python36\\site-packages\\sklearn\\base.py:465: DataConversionWarning: Data with input dtype object were all converted to float64 by StandardScaler.\n",
      "  return self.fit(X, y, **fit_params).transform(X)\n",
      "C:\\Users\\THINKPAD\\AppData\\Roaming\\Python\\Python36\\site-packages\\sklearn\\linear_model\\logistic.py:757: ConvergenceWarning: lbfgs failed to converge. Increase the number of iterations.\n",
      "  \"of iterations.\", ConvergenceWarning)\n",
      "C:\\Users\\THINKPAD\\AppData\\Roaming\\Python\\Python36\\site-packages\\sklearn\\pipeline.py:451: DataConversionWarning: Data with input dtype int64 were all converted to float64 by StandardScaler.\n",
      "  Xt = transform.transform(Xt)\n"
     ]
    },
    {
     "name": "stdout",
     "output_type": "stream",
     "text": [
      "model score: 0.985\n"
     ]
    },
    {
     "name": "stderr",
     "output_type": "stream",
     "text": [
      "C:\\Users\\THINKPAD\\AppData\\Roaming\\Python\\Python36\\site-packages\\sklearn\\pipeline.py:451: DataConversionWarning: Data with input dtype int64 were all converted to float64 by StandardScaler.\n",
      "  Xt = transform.transform(Xt)\n"
     ]
    },
    {
     "name": "stdout",
     "output_type": "stream",
     "text": [
      "              precision    recall  f1-score   support\n",
      "\n",
      "       False       0.99      0.99      0.99    142739\n",
      "        True       0.43      0.53      0.47      1846\n",
      "\n",
      "   micro avg       0.98      0.98      0.98    144585\n",
      "   macro avg       0.71      0.76      0.73    144585\n",
      "weighted avg       0.99      0.98      0.99    144585\n",
      "\n"
     ]
    },
    {
     "name": "stderr",
     "output_type": "stream",
     "text": [
      "C:\\Users\\THINKPAD\\AppData\\Roaming\\Python\\Python36\\site-packages\\sklearn\\pipeline.py:451: DataConversionWarning: Data with input dtype int64 were all converted to float64 by StandardScaler.\n",
      "  Xt = transform.transform(Xt)\n"
     ]
    },
    {
     "name": "stdout",
     "output_type": "stream",
     "text": [
      "0.7587006588793461\n"
     ]
    }
   ],
   "source": [
    "clf.fit(X_resampled, y_resampled)\n",
    "print(\"model score: %.3f\" % clf.score(val_X_LRC, val_y_LRC))\n",
    "print(classification_report(val_y_LRC, clf.predict(val_X_LRC)))\n",
    "print(roc_auc_score(val_y_LRC, clf.predict(val_X_LRC)))"
   ]
  },
  {
   "cell_type": "code",
   "execution_count": 72,
   "metadata": {},
   "outputs": [
    {
     "name": "stderr",
     "output_type": "stream",
     "text": [
      "C:\\Users\\THINKPAD\\AppData\\Roaming\\Python\\Python36\\site-packages\\sklearn\\pipeline.py:451: DataConversionWarning: Data with input dtype int64 were all converted to float64 by StandardScaler.\n",
      "  Xt = transform.transform(Xt)\n"
     ]
    },
    {
     "name": "stdout",
     "output_type": "stream",
     "text": [
      "0.9809862509816747\n"
     ]
    }
   ],
   "source": [
    "print(roc_auc_score(val_y_LRC, clf.predict_proba(val_X_LRC)[:,1]))"
   ]
  },
  {
   "cell_type": "code",
   "execution_count": 48,
   "metadata": {},
   "outputs": [
    {
     "name": "stderr",
     "output_type": "stream",
     "text": [
      "C:\\Users\\THINKPAD\\AppData\\Roaming\\Python\\Python36\\site-packages\\sklearn\\pipeline.py:451: DataConversionWarning: Data with input dtype int64 were all converted to float64 by StandardScaler.\n",
      "  Xt = transform.transform(Xt)\n",
      "C:\\Users\\THINKPAD\\AppData\\Roaming\\Python\\Python36\\site-packages\\sklearn\\metrics\\ranking.py:104: DeprecationWarning: The 'reorder' parameter has been deprecated in version 0.20 and will be removed in 0.22. It is recommended not to set 'reorder' and ensure that x is monotonic increasing or monotonic decreasing.\n",
      "  DeprecationWarning)\n"
     ]
    },
    {
     "data": {
      "text/plain": [
       "0.3988852449619253"
      ]
     },
     "execution_count": 48,
     "metadata": {},
     "output_type": "execute_result"
    }
   ],
   "source": [
    "pr_auc_score(val_y_LRC, clf.predict_proba(val_X_LRC)[:,1])"
   ]
  },
  {
   "cell_type": "code",
   "execution_count": 93,
   "metadata": {},
   "outputs": [
    {
     "name": "stdout",
     "output_type": "stream",
     "text": [
      "threshold 0\n"
     ]
    },
    {
     "name": "stderr",
     "output_type": "stream",
     "text": [
      "C:\\Users\\THINKPAD\\AppData\\Roaming\\Python\\Python36\\site-packages\\sklearn\\pipeline.py:451: DataConversionWarning: Data with input dtype int64 were all converted to float64 by StandardScaler.\n",
      "  Xt = transform.transform(Xt)\n"
     ]
    },
    {
     "name": "stdout",
     "output_type": "stream",
     "text": [
      "0.025213240365769544\n",
      "threshold 0.1\n"
     ]
    },
    {
     "name": "stderr",
     "output_type": "stream",
     "text": [
      "C:\\Users\\THINKPAD\\AppData\\Roaming\\Python\\Python36\\site-packages\\sklearn\\pipeline.py:451: DataConversionWarning: Data with input dtype int64 were all converted to float64 by StandardScaler.\n",
      "  Xt = transform.transform(Xt)\n"
     ]
    },
    {
     "name": "stdout",
     "output_type": "stream",
     "text": [
      "0.2966276668960771\n",
      "threshold 0.2\n"
     ]
    },
    {
     "name": "stderr",
     "output_type": "stream",
     "text": [
      "C:\\Users\\THINKPAD\\AppData\\Roaming\\Python\\Python36\\site-packages\\sklearn\\pipeline.py:451: DataConversionWarning: Data with input dtype int64 were all converted to float64 by StandardScaler.\n",
      "  Xt = transform.transform(Xt)\n"
     ]
    },
    {
     "name": "stdout",
     "output_type": "stream",
     "text": [
      "0.43842645381984036\n",
      "threshold 0.3\n"
     ]
    },
    {
     "name": "stderr",
     "output_type": "stream",
     "text": [
      "C:\\Users\\THINKPAD\\AppData\\Roaming\\Python\\Python36\\site-packages\\sklearn\\pipeline.py:451: DataConversionWarning: Data with input dtype int64 were all converted to float64 by StandardScaler.\n",
      "  Xt = transform.transform(Xt)\n"
     ]
    },
    {
     "name": "stdout",
     "output_type": "stream",
     "text": [
      "0.4814881704894347\n",
      "threshold 0.4\n"
     ]
    },
    {
     "name": "stderr",
     "output_type": "stream",
     "text": [
      "C:\\Users\\THINKPAD\\AppData\\Roaming\\Python\\Python36\\site-packages\\sklearn\\pipeline.py:451: DataConversionWarning: Data with input dtype int64 were all converted to float64 by StandardScaler.\n",
      "  Xt = transform.transform(Xt)\n"
     ]
    },
    {
     "name": "stdout",
     "output_type": "stream",
     "text": [
      "0.48309382924767535\n",
      "threshold 0.5\n"
     ]
    },
    {
     "name": "stderr",
     "output_type": "stream",
     "text": [
      "C:\\Users\\THINKPAD\\AppData\\Roaming\\Python\\Python36\\site-packages\\sklearn\\pipeline.py:451: DataConversionWarning: Data with input dtype int64 were all converted to float64 by StandardScaler.\n",
      "  Xt = transform.transform(Xt)\n"
     ]
    },
    {
     "name": "stdout",
     "output_type": "stream",
     "text": [
      "0.4715013339801115\n",
      "threshold 0.6\n"
     ]
    },
    {
     "name": "stderr",
     "output_type": "stream",
     "text": [
      "C:\\Users\\THINKPAD\\AppData\\Roaming\\Python\\Python36\\site-packages\\sklearn\\pipeline.py:451: DataConversionWarning: Data with input dtype int64 were all converted to float64 by StandardScaler.\n",
      "  Xt = transform.transform(Xt)\n"
     ]
    },
    {
     "name": "stdout",
     "output_type": "stream",
     "text": [
      "0.4475409836065574\n",
      "threshold 0.7\n"
     ]
    },
    {
     "name": "stderr",
     "output_type": "stream",
     "text": [
      "C:\\Users\\THINKPAD\\AppData\\Roaming\\Python\\Python36\\site-packages\\sklearn\\pipeline.py:451: DataConversionWarning: Data with input dtype int64 were all converted to float64 by StandardScaler.\n",
      "  Xt = transform.transform(Xt)\n"
     ]
    },
    {
     "name": "stdout",
     "output_type": "stream",
     "text": [
      "0.41282442748091597\n",
      "threshold 0.8\n"
     ]
    },
    {
     "name": "stderr",
     "output_type": "stream",
     "text": [
      "C:\\Users\\THINKPAD\\AppData\\Roaming\\Python\\Python36\\site-packages\\sklearn\\pipeline.py:451: DataConversionWarning: Data with input dtype int64 were all converted to float64 by StandardScaler.\n",
      "  Xt = transform.transform(Xt)\n"
     ]
    },
    {
     "name": "stdout",
     "output_type": "stream",
     "text": [
      "0.35677530017152653\n",
      "threshold 0.9\n"
     ]
    },
    {
     "name": "stderr",
     "output_type": "stream",
     "text": [
      "C:\\Users\\THINKPAD\\AppData\\Roaming\\Python\\Python36\\site-packages\\sklearn\\pipeline.py:451: DataConversionWarning: Data with input dtype int64 were all converted to float64 by StandardScaler.\n",
      "  Xt = transform.transform(Xt)\n"
     ]
    },
    {
     "name": "stdout",
     "output_type": "stream",
     "text": [
      "0.27272727272727276\n",
      "threshold 1\n"
     ]
    },
    {
     "name": "stderr",
     "output_type": "stream",
     "text": [
      "C:\\Users\\THINKPAD\\AppData\\Roaming\\Python\\Python36\\site-packages\\sklearn\\pipeline.py:451: DataConversionWarning: Data with input dtype int64 were all converted to float64 by StandardScaler.\n",
      "  Xt = transform.transform(Xt)\n"
     ]
    },
    {
     "name": "stdout",
     "output_type": "stream",
     "text": [
      "0.0\n"
     ]
    },
    {
     "name": "stderr",
     "output_type": "stream",
     "text": [
      "C:\\Users\\THINKPAD\\AppData\\Roaming\\Python\\Python36\\site-packages\\sklearn\\metrics\\classification.py:1143: UndefinedMetricWarning: F-score is ill-defined and being set to 0.0 due to no predicted samples.\n",
      "  'precision', 'predicted', average, warn_for)\n"
     ]
    }
   ],
   "source": [
    "thresholds = [0,0.1,0.2,0.3,0.4,0.5,0.6,0.7,0.8,0.9,1]\n",
    "for t in thresholds:\n",
    "    print('threshold {}'.format(t))\n",
    "    print(f1_score(val_y_LRC, clf.predict_proba(val_X_LRC)[:,1]>t))"
   ]
  },
  {
   "cell_type": "code",
   "execution_count": 94,
   "metadata": {},
   "outputs": [
    {
     "name": "stderr",
     "output_type": "stream",
     "text": [
      "C:\\Users\\THINKPAD\\AppData\\Roaming\\Python\\Python36\\site-packages\\sklearn\\pipeline.py:451: DataConversionWarning: Data with input dtype int64 were all converted to float64 by StandardScaler.\n",
      "  Xt = transform.transform(Xt)\n"
     ]
    },
    {
     "name": "stdout",
     "output_type": "stream",
     "text": [
      "              precision    recall  f1-score   support\n",
      "\n",
      "       False       1.00      0.99      0.99    142739\n",
      "        True       0.40      0.62      0.48      1846\n",
      "\n",
      "   micro avg       0.98      0.98      0.98    144585\n",
      "   macro avg       0.70      0.80      0.74    144585\n",
      "weighted avg       0.99      0.98      0.98    144585\n",
      "\n"
     ]
    }
   ],
   "source": [
    "print(classification_report(val_y_LRC, clf.predict_proba(val_X_LRC)[:,1]>0.4))"
   ]
  },
  {
   "cell_type": "code",
   "execution_count": 146,
   "metadata": {},
   "outputs": [
    {
     "data": {
      "text/plain": [
       "channelGrouping               category\n",
       "device.browser                category\n",
       "device.isMobile               category\n",
       "device.operatingSystem        category\n",
       "geoNetwork.networkDomain      category\n",
       "geoNetwork.subContinent       category\n",
       "totals.bounces                category\n",
       "totals.newVisits              category\n",
       "trafficSource.campaign        category\n",
       "trafficSource.isTrueDirect    category\n",
       "trafficSource.medium          category\n",
       "trafficSource.source          category\n",
       "visitNumber                      int32\n",
       "visitStartTime                   int32\n",
       "totals.hits                      int32\n",
       "totals.pageviews                 int32\n",
       "dtype: object"
      ]
     },
     "execution_count": 146,
     "metadata": {},
     "output_type": "execute_result"
    }
   ],
   "source": [
    "for cols in cateCols:\n",
    "    X_resampled[cols] = X_resampled[cols].astype('category')\n",
    "#X_resampled[cateCols] = X_resampled[cateCols].astype('category')\n",
    "X_resampled[numCols] = X_resampled[numCols].astype(int)\n",
    "X_resampled.dtypes"
   ]
  },
  {
   "cell_type": "code",
   "execution_count": 47,
   "metadata": {},
   "outputs": [
    {
     "name": "stdout",
     "output_type": "stream",
     "text": [
      "Original dataset shape Counter({False: 570961, True: 7376})\n",
      "Resampled dataset shape Counter({False: 570961, True: 28548})\n"
     ]
    }
   ],
   "source": [
    "print('Original dataset shape %s' % Counter(train_y_LRC))\n",
    "print('Resampled dataset shape %s' % Counter(y_resampled))"
   ]
  },
  {
   "cell_type": "markdown",
   "metadata": {},
   "source": [
    "#### Logistic Regression with SMOTE"
   ]
  },
  {
   "cell_type": "code",
   "execution_count": 110,
   "metadata": {},
   "outputs": [
    {
     "name": "stdout",
     "output_type": "stream",
     "text": [
      "Original dataset shape Counter({False: 570961, True: 7376})\n",
      "SMOTE dataset shape Counter({False: 570961, True: 570961})\n"
     ]
    }
   ],
   "source": [
    "sm = SMOTE(random_state=0)\n",
    "X_smote, y_smote = sm.fit_resample(train_X_LRC, train_y_LRC)\n",
    "print('Original dataset shape %s' % Counter(train_y_LRC))\n",
    "print('SMOTE dataset shape %s' % Counter(y_smote))"
   ]
  },
  {
   "cell_type": "code",
   "execution_count": 111,
   "metadata": {
    "scrolled": true
   },
   "outputs": [
    {
     "name": "stderr",
     "output_type": "stream",
     "text": [
      "C:\\Users\\THINKPAD\\AppData\\Roaming\\Python\\Python36\\site-packages\\sklearn\\linear_model\\logistic.py:757: ConvergenceWarning: lbfgs failed to converge. Increase the number of iterations.\n",
      "  \"of iterations.\", ConvergenceWarning)\n",
      "C:\\Users\\THINKPAD\\AppData\\Roaming\\Python\\Python36\\site-packages\\sklearn\\pipeline.py:451: DataConversionWarning: Data with input dtype int64 were all converted to float64 by StandardScaler.\n",
      "  Xt = transform.transform(Xt)\n"
     ]
    },
    {
     "name": "stdout",
     "output_type": "stream",
     "text": [
      "model score: 0.985\n"
     ]
    },
    {
     "name": "stderr",
     "output_type": "stream",
     "text": [
      "C:\\Users\\THINKPAD\\AppData\\Roaming\\Python\\Python36\\site-packages\\sklearn\\pipeline.py:451: DataConversionWarning: Data with input dtype int64 were all converted to float64 by StandardScaler.\n",
      "  Xt = transform.transform(Xt)\n"
     ]
    },
    {
     "name": "stdout",
     "output_type": "stream",
     "text": [
      "              precision    recall  f1-score   support\n",
      "\n",
      "       False       0.99      0.99      0.99    142739\n",
      "        True       0.43      0.52      0.47      1846\n",
      "\n",
      "   micro avg       0.99      0.99      0.99    144585\n",
      "   macro avg       0.71      0.75      0.73    144585\n",
      "weighted avg       0.99      0.99      0.99    144585\n",
      "\n"
     ]
    }
   ],
   "source": [
    "X_smote = pd.DataFrame(X_smote, columns=train_X_LRC.columns)\n",
    "clf.fit(X_smote, y_smote)\n",
    "print(\"model score: %.3f\" % clf.score(val_X_LRC, val_y_LRC))\n",
    "print(classification_report(val_y_LRC, clf.predict(val_X_LRC)))"
   ]
  },
  {
   "cell_type": "code",
   "execution_count": 51,
   "metadata": {},
   "outputs": [
    {
     "name": "stderr",
     "output_type": "stream",
     "text": [
      "C:\\Users\\THINKPAD\\AppData\\Roaming\\Python\\Python36\\site-packages\\sklearn\\pipeline.py:451: DataConversionWarning: Data with input dtype int64 were all converted to float64 by StandardScaler.\n",
      "  Xt = transform.transform(Xt)\n"
     ]
    },
    {
     "name": "stdout",
     "output_type": "stream",
     "text": [
      "0.7536910096697639\n"
     ]
    }
   ],
   "source": [
    "print(roc_auc_score(val_y_LRC, clf.predict(val_X_LRC)))"
   ]
  },
  {
   "cell_type": "code",
   "execution_count": 53,
   "metadata": {},
   "outputs": [
    {
     "name": "stderr",
     "output_type": "stream",
     "text": [
      "C:\\Users\\THINKPAD\\AppData\\Roaming\\Python\\Python36\\site-packages\\sklearn\\pipeline.py:451: DataConversionWarning: Data with input dtype int64 were all converted to float64 by StandardScaler.\n",
      "  Xt = transform.transform(Xt)\n"
     ]
    },
    {
     "name": "stdout",
     "output_type": "stream",
     "text": [
      "0.9743363219128699\n"
     ]
    }
   ],
   "source": [
    "print(roc_auc_score(val_y_LRC, clf.predict_proba(val_X_LRC)[:,1]))"
   ]
  },
  {
   "cell_type": "code",
   "execution_count": 54,
   "metadata": {},
   "outputs": [
    {
     "name": "stderr",
     "output_type": "stream",
     "text": [
      "C:\\Users\\THINKPAD\\AppData\\Roaming\\Python\\Python36\\site-packages\\sklearn\\pipeline.py:451: DataConversionWarning: Data with input dtype int64 were all converted to float64 by StandardScaler.\n",
      "  Xt = transform.transform(Xt)\n",
      "C:\\Users\\THINKPAD\\AppData\\Roaming\\Python\\Python36\\site-packages\\sklearn\\metrics\\ranking.py:104: DeprecationWarning: The 'reorder' parameter has been deprecated in version 0.20 and will be removed in 0.22. It is recommended not to set 'reorder' and ensure that x is monotonic increasing or monotonic decreasing.\n",
      "  DeprecationWarning)\n"
     ]
    },
    {
     "data": {
      "text/plain": [
       "0.3815130542122915"
      ]
     },
     "execution_count": 54,
     "metadata": {},
     "output_type": "execute_result"
    }
   ],
   "source": [
    "pr_auc_score(val_y_LRC, clf.predict_proba(val_X_LRC)[:,1])"
   ]
  },
  {
   "cell_type": "code",
   "execution_count": 97,
   "metadata": {},
   "outputs": [
    {
     "name": "stdout",
     "output_type": "stream",
     "text": [
      "threshold 0\n"
     ]
    },
    {
     "name": "stderr",
     "output_type": "stream",
     "text": [
      "C:\\Users\\THINKPAD\\AppData\\Roaming\\Python\\Python36\\site-packages\\sklearn\\pipeline.py:451: DataConversionWarning: Data with input dtype int64 were all converted to float64 by StandardScaler.\n",
      "  Xt = transform.transform(Xt)\n"
     ]
    },
    {
     "name": "stdout",
     "output_type": "stream",
     "text": [
      "0.025213240365769544\n",
      "threshold 0.1\n"
     ]
    },
    {
     "name": "stderr",
     "output_type": "stream",
     "text": [
      "C:\\Users\\THINKPAD\\AppData\\Roaming\\Python\\Python36\\site-packages\\sklearn\\pipeline.py:451: DataConversionWarning: Data with input dtype int64 were all converted to float64 by StandardScaler.\n",
      "  Xt = transform.transform(Xt)\n"
     ]
    },
    {
     "name": "stdout",
     "output_type": "stream",
     "text": [
      "0.30898653998416464\n",
      "threshold 0.2\n"
     ]
    },
    {
     "name": "stderr",
     "output_type": "stream",
     "text": [
      "C:\\Users\\THINKPAD\\AppData\\Roaming\\Python\\Python36\\site-packages\\sklearn\\pipeline.py:451: DataConversionWarning: Data with input dtype int64 were all converted to float64 by StandardScaler.\n",
      "  Xt = transform.transform(Xt)\n"
     ]
    },
    {
     "name": "stdout",
     "output_type": "stream",
     "text": [
      "0.3898012100259291\n",
      "threshold 0.3\n"
     ]
    },
    {
     "name": "stderr",
     "output_type": "stream",
     "text": [
      "C:\\Users\\THINKPAD\\AppData\\Roaming\\Python\\Python36\\site-packages\\sklearn\\pipeline.py:451: DataConversionWarning: Data with input dtype int64 were all converted to float64 by StandardScaler.\n",
      "  Xt = transform.transform(Xt)\n"
     ]
    },
    {
     "name": "stdout",
     "output_type": "stream",
     "text": [
      "0.4468960359012715\n",
      "threshold 0.4\n"
     ]
    },
    {
     "name": "stderr",
     "output_type": "stream",
     "text": [
      "C:\\Users\\THINKPAD\\AppData\\Roaming\\Python\\Python36\\site-packages\\sklearn\\pipeline.py:451: DataConversionWarning: Data with input dtype int64 were all converted to float64 by StandardScaler.\n",
      "  Xt = transform.transform(Xt)\n"
     ]
    },
    {
     "name": "stdout",
     "output_type": "stream",
     "text": [
      "0.4723859419340755\n",
      "threshold 0.5\n"
     ]
    },
    {
     "name": "stderr",
     "output_type": "stream",
     "text": [
      "C:\\Users\\THINKPAD\\AppData\\Roaming\\Python\\Python36\\site-packages\\sklearn\\pipeline.py:451: DataConversionWarning: Data with input dtype int64 were all converted to float64 by StandardScaler.\n",
      "  Xt = transform.transform(Xt)\n"
     ]
    },
    {
     "name": "stdout",
     "output_type": "stream",
     "text": [
      "0.4688806888068881\n",
      "threshold 0.6\n"
     ]
    },
    {
     "name": "stderr",
     "output_type": "stream",
     "text": [
      "C:\\Users\\THINKPAD\\AppData\\Roaming\\Python\\Python36\\site-packages\\sklearn\\pipeline.py:451: DataConversionWarning: Data with input dtype int64 were all converted to float64 by StandardScaler.\n",
      "  Xt = transform.transform(Xt)\n"
     ]
    },
    {
     "name": "stdout",
     "output_type": "stream",
     "text": [
      "0.4537953795379538\n",
      "threshold 0.7\n"
     ]
    },
    {
     "name": "stderr",
     "output_type": "stream",
     "text": [
      "C:\\Users\\THINKPAD\\AppData\\Roaming\\Python\\Python36\\site-packages\\sklearn\\pipeline.py:451: DataConversionWarning: Data with input dtype int64 were all converted to float64 by StandardScaler.\n",
      "  Xt = transform.transform(Xt)\n"
     ]
    },
    {
     "name": "stdout",
     "output_type": "stream",
     "text": [
      "0.4256488549618321\n",
      "threshold 0.8\n"
     ]
    },
    {
     "name": "stderr",
     "output_type": "stream",
     "text": [
      "C:\\Users\\THINKPAD\\AppData\\Roaming\\Python\\Python36\\site-packages\\sklearn\\pipeline.py:451: DataConversionWarning: Data with input dtype int64 were all converted to float64 by StandardScaler.\n",
      "  Xt = transform.transform(Xt)\n"
     ]
    },
    {
     "name": "stdout",
     "output_type": "stream",
     "text": [
      "0.3761969904240766\n",
      "threshold 0.9\n"
     ]
    },
    {
     "name": "stderr",
     "output_type": "stream",
     "text": [
      "C:\\Users\\THINKPAD\\AppData\\Roaming\\Python\\Python36\\site-packages\\sklearn\\pipeline.py:451: DataConversionWarning: Data with input dtype int64 were all converted to float64 by StandardScaler.\n",
      "  Xt = transform.transform(Xt)\n"
     ]
    },
    {
     "name": "stdout",
     "output_type": "stream",
     "text": [
      "0.30163678877630556\n",
      "threshold 1\n"
     ]
    },
    {
     "name": "stderr",
     "output_type": "stream",
     "text": [
      "C:\\Users\\THINKPAD\\AppData\\Roaming\\Python\\Python36\\site-packages\\sklearn\\pipeline.py:451: DataConversionWarning: Data with input dtype int64 were all converted to float64 by StandardScaler.\n",
      "  Xt = transform.transform(Xt)\n"
     ]
    },
    {
     "name": "stdout",
     "output_type": "stream",
     "text": [
      "0.0\n"
     ]
    },
    {
     "name": "stderr",
     "output_type": "stream",
     "text": [
      "C:\\Users\\THINKPAD\\AppData\\Roaming\\Python\\Python36\\site-packages\\sklearn\\metrics\\classification.py:1143: UndefinedMetricWarning: F-score is ill-defined and being set to 0.0 due to no predicted samples.\n",
      "  'precision', 'predicted', average, warn_for)\n"
     ]
    }
   ],
   "source": [
    "thresholds = [0,0.1,0.2,0.3,0.4,0.5,0.6,0.7,0.8,0.9,1]\n",
    "for t in thresholds:\n",
    "    print('threshold {}'.format(t))\n",
    "    print(f1_score(val_y_LRC, clf.predict_proba(val_X_LRC)[:,1]>t))"
   ]
  },
  {
   "cell_type": "code",
   "execution_count": 98,
   "metadata": {},
   "outputs": [
    {
     "name": "stderr",
     "output_type": "stream",
     "text": [
      "C:\\Users\\THINKPAD\\AppData\\Roaming\\Python\\Python36\\site-packages\\sklearn\\pipeline.py:451: DataConversionWarning: Data with input dtype int64 were all converted to float64 by StandardScaler.\n",
      "  Xt = transform.transform(Xt)\n"
     ]
    },
    {
     "name": "stdout",
     "output_type": "stream",
     "text": [
      "              precision    recall  f1-score   support\n",
      "\n",
      "       False       0.99      0.99      0.99    142739\n",
      "        True       0.40      0.59      0.47      1846\n",
      "\n",
      "   micro avg       0.98      0.98      0.98    144585\n",
      "   macro avg       0.70      0.79      0.73    144585\n",
      "weighted avg       0.99      0.98      0.98    144585\n",
      "\n"
     ]
    }
   ],
   "source": [
    "print(classification_report(val_y_LRC, clf.predict_proba(val_X_LRC)[:,1]>0.4))"
   ]
  },
  {
   "cell_type": "code",
   "execution_count": 112,
   "metadata": {},
   "outputs": [
    {
     "data": {
      "text/plain": [
       "channelGrouping               category\n",
       "device.browser                category\n",
       "device.isMobile               category\n",
       "device.operatingSystem        category\n",
       "geoNetwork.networkDomain      category\n",
       "geoNetwork.subContinent       category\n",
       "totals.bounces                category\n",
       "totals.newVisits              category\n",
       "trafficSource.campaign        category\n",
       "trafficSource.isTrueDirect    category\n",
       "trafficSource.medium          category\n",
       "trafficSource.source          category\n",
       "visitNumber                      int32\n",
       "visitStartTime                   int32\n",
       "totals.hits                      int32\n",
       "totals.pageviews                 int32\n",
       "dtype: object"
      ]
     },
     "execution_count": 112,
     "metadata": {},
     "output_type": "execute_result"
    }
   ],
   "source": [
    "for cols in cateCols:\n",
    "    X_smote[cols] = X_smote[cols].astype('category')\n",
    "#X_resampled[cateCols] = X_resampled[cateCols].astype('category')\n",
    "X_smote[numCols] = X_smote[numCols].astype(int)\n",
    "X_smote.dtypes"
   ]
  },
  {
   "cell_type": "code",
   "execution_count": null,
   "metadata": {},
   "outputs": [],
   "source": []
  },
  {
   "cell_type": "code",
   "execution_count": 56,
   "metadata": {},
   "outputs": [
    {
     "name": "stdout",
     "output_type": "stream",
     "text": [
      "Original dataset shape Counter({False: 570961, True: 7376})\n",
      "SMOTE dataset shape Counter({False: 570961, True: 28548})\n"
     ]
    }
   ],
   "source": [
    "sm = SMOTE(random_state=0, sampling_strategy = 0.05)\n",
    "X_smote, y_smote = sm.fit_resample(train_X_LRC, train_y_LRC)\n",
    "print('Original dataset shape %s' % Counter(train_y_LRC))\n",
    "print('SMOTE dataset shape %s' % Counter(y_smote))"
   ]
  },
  {
   "cell_type": "code",
   "execution_count": 57,
   "metadata": {},
   "outputs": [
    {
     "name": "stderr",
     "output_type": "stream",
     "text": [
      "C:\\Users\\THINKPAD\\AppData\\Roaming\\Python\\Python36\\site-packages\\sklearn\\linear_model\\logistic.py:757: ConvergenceWarning: lbfgs failed to converge. Increase the number of iterations.\n",
      "  \"of iterations.\", ConvergenceWarning)\n",
      "C:\\Users\\THINKPAD\\AppData\\Roaming\\Python\\Python36\\site-packages\\sklearn\\pipeline.py:451: DataConversionWarning: Data with input dtype int64 were all converted to float64 by StandardScaler.\n",
      "  Xt = transform.transform(Xt)\n"
     ]
    },
    {
     "name": "stdout",
     "output_type": "stream",
     "text": [
      "model score: 0.987\n"
     ]
    },
    {
     "name": "stderr",
     "output_type": "stream",
     "text": [
      "C:\\Users\\THINKPAD\\AppData\\Roaming\\Python\\Python36\\site-packages\\sklearn\\pipeline.py:451: DataConversionWarning: Data with input dtype int64 were all converted to float64 by StandardScaler.\n",
      "  Xt = transform.transform(Xt)\n"
     ]
    },
    {
     "name": "stdout",
     "output_type": "stream",
     "text": [
      "              precision    recall  f1-score   support\n",
      "\n",
      "       False       0.99      1.00      0.99    142739\n",
      "        True       0.52      0.23      0.32      1846\n",
      "\n",
      "   micro avg       0.99      0.99      0.99    144585\n",
      "   macro avg       0.76      0.61      0.66    144585\n",
      "weighted avg       0.98      0.99      0.99    144585\n",
      "\n"
     ]
    }
   ],
   "source": [
    "X_smote = pd.DataFrame(X_smote, columns=train_X_LRC.columns)\n",
    "clf.fit(X_smote, y_smote)\n",
    "print(\"model score: %.3f\" % clf.score(val_X_LRC, val_y_LRC))\n",
    "print(classification_report(val_y_LRC, clf.predict(val_X_LRC)))"
   ]
  },
  {
   "cell_type": "code",
   "execution_count": 58,
   "metadata": {},
   "outputs": [
    {
     "name": "stderr",
     "output_type": "stream",
     "text": [
      "C:\\Users\\THINKPAD\\AppData\\Roaming\\Python\\Python36\\site-packages\\sklearn\\pipeline.py:451: DataConversionWarning: Data with input dtype int64 were all converted to float64 by StandardScaler.\n",
      "  Xt = transform.transform(Xt)\n"
     ]
    },
    {
     "name": "stdout",
     "output_type": "stream",
     "text": [
      "0.6124073617549102\n"
     ]
    }
   ],
   "source": [
    "print(roc_auc_score(val_y_LRC, clf.predict(val_X_LRC)))"
   ]
  },
  {
   "cell_type": "code",
   "execution_count": 60,
   "metadata": {},
   "outputs": [
    {
     "name": "stderr",
     "output_type": "stream",
     "text": [
      "C:\\Users\\THINKPAD\\AppData\\Roaming\\Python\\Python36\\site-packages\\sklearn\\pipeline.py:451: DataConversionWarning: Data with input dtype int64 were all converted to float64 by StandardScaler.\n",
      "  Xt = transform.transform(Xt)\n"
     ]
    },
    {
     "name": "stdout",
     "output_type": "stream",
     "text": [
      "0.9776202630843315\n"
     ]
    }
   ],
   "source": [
    "print(roc_auc_score(val_y_LRC, clf.predict_proba(val_X_LRC)[:,1]))"
   ]
  },
  {
   "cell_type": "code",
   "execution_count": 59,
   "metadata": {},
   "outputs": [
    {
     "name": "stderr",
     "output_type": "stream",
     "text": [
      "C:\\Users\\THINKPAD\\AppData\\Roaming\\Python\\Python36\\site-packages\\sklearn\\pipeline.py:451: DataConversionWarning: Data with input dtype int64 were all converted to float64 by StandardScaler.\n",
      "  Xt = transform.transform(Xt)\n",
      "C:\\Users\\THINKPAD\\AppData\\Roaming\\Python\\Python36\\site-packages\\sklearn\\metrics\\ranking.py:104: DeprecationWarning: The 'reorder' parameter has been deprecated in version 0.20 and will be removed in 0.22. It is recommended not to set 'reorder' and ensure that x is monotonic increasing or monotonic decreasing.\n",
      "  DeprecationWarning)\n"
     ]
    },
    {
     "data": {
      "text/plain": [
       "0.3985118985974418"
      ]
     },
     "execution_count": 59,
     "metadata": {},
     "output_type": "execute_result"
    }
   ],
   "source": [
    "pr_auc_score(val_y_LRC, clf.predict_proba(val_X_LRC)[:,1])"
   ]
  },
  {
   "cell_type": "code",
   "execution_count": 107,
   "metadata": {},
   "outputs": [
    {
     "data": {
      "text/plain": [
       "channelGrouping               category\n",
       "device.browser                category\n",
       "device.isMobile               category\n",
       "device.operatingSystem        category\n",
       "geoNetwork.networkDomain      category\n",
       "geoNetwork.subContinent       category\n",
       "totals.bounces                category\n",
       "totals.newVisits              category\n",
       "trafficSource.campaign        category\n",
       "trafficSource.isTrueDirect    category\n",
       "trafficSource.medium          category\n",
       "trafficSource.source          category\n",
       "visitNumber                      int32\n",
       "visitStartTime                   int32\n",
       "totals.hits                      int32\n",
       "totals.pageviews                 int32\n",
       "dtype: object"
      ]
     },
     "execution_count": 107,
     "metadata": {},
     "output_type": "execute_result"
    }
   ],
   "source": [
    "for cols in cateCols:\n",
    "    X_smote[cols] = X_smote[cols].astype('category')\n",
    "#X_resampled[cateCols] = X_resampled[cateCols].astype('category')\n",
    "X_smote[numCols] = X_smote[numCols].astype(int)\n",
    "X_smote.dtypes"
   ]
  },
  {
   "cell_type": "markdown",
   "metadata": {},
   "source": [
    "#### LightGBM Classification"
   ]
  },
  {
   "cell_type": "code",
   "execution_count": 86,
   "metadata": {},
   "outputs": [],
   "source": [
    "def run_lgbc(train_X, train_y, val_X, val_y):\n",
    "    params = {\n",
    "        \"objective\" : \"binary\",\n",
    "        \"metric\" : \"binary_logloss\", \n",
    "        \"num_leaves\" : 30,\n",
    "        \"min_child_samples\" : 100,\n",
    "        \"learning_rate\" : 0.1,\n",
    "        \"bagging_fraction\" : 0.7,\n",
    "        \"feature_fraction\" : 0.5,\n",
    "        \"bagging_frequency\" : 5,\n",
    "        \"bagging_seed\" : 2018,\n",
    "    }\n",
    "    \n",
    "    lgtrain = lgb.Dataset(train_X, label=train_y)\n",
    "    lgval = lgb.Dataset(val_X, label=val_y)\n",
    "    model = lgb.train(params, lgtrain, 1000, valid_sets=[lgval], early_stopping_rounds=100, verbose_eval=100)\n",
    "    \n",
    "    pred_val_y = model.predict(val_X, num_iteration=model.best_iteration)\n",
    "    return model, pred_val_y"
   ]
  },
  {
   "cell_type": "code",
   "execution_count": 116,
   "metadata": {},
   "outputs": [
    {
     "name": "stderr",
     "output_type": "stream",
     "text": [
      "C:\\Users\\THINKPAD\\AppData\\Local\\Continuum\\Anaconda3\\envs\\Tensor\\lib\\site-packages\\lightgbm\\basic.py:752: UserWarning: categorical_feature in param dict is overridden.\n",
      "  warnings.warn('categorical_feature in param dict is overridden.')\n"
     ]
    },
    {
     "name": "stdout",
     "output_type": "stream",
     "text": [
      "Training until validation scores don't improve for 100 rounds.\n",
      "[100]\tvalid_0's binary_logloss: 0.0277848\n",
      "[200]\tvalid_0's binary_logloss: 0.131432\n",
      "Early stopping, best iteration is:\n",
      "[112]\tvalid_0's binary_logloss: 0.0277447\n"
     ]
    }
   ],
   "source": [
    "modelC, pred_val_y = run_lgbc(train_X_LRC, train_y_LRC, val_X_LRC, val_y_LRC)"
   ]
  },
  {
   "cell_type": "code",
   "execution_count": 64,
   "metadata": {},
   "outputs": [
    {
     "name": "stdout",
     "output_type": "stream",
     "text": [
      "              precision    recall  f1-score   support\n",
      "\n",
      "       False       0.99      1.00      0.99    142739\n",
      "        True       0.59      0.23      0.34      1846\n",
      "\n",
      "   micro avg       0.99      0.99      0.99    144585\n",
      "   macro avg       0.79      0.62      0.66    144585\n",
      "weighted avg       0.99      0.99      0.99    144585\n",
      "\n",
      "0.9881453816094339\n",
      "0.6162262347516108\n"
     ]
    }
   ],
   "source": [
    "print(classification_report(val_y_LRC, modelC.predict(val_X_LRC)>0.5))\n",
    "print(metrics.accuracy_score(val_y_LRC, modelC.predict(val_X_LRC)>0.5))\n",
    "print(roc_auc_score(val_y_LRC, modelC.predict(val_X_LRC)>0.5))"
   ]
  },
  {
   "cell_type": "code",
   "execution_count": 65,
   "metadata": {},
   "outputs": [
    {
     "data": {
      "text/plain": [
       "array([1.14748103e-06, 2.06848737e-06, 7.06589764e-07, ...,\n",
       "       4.06839051e-02, 2.49426375e-01, 1.18132586e-06])"
      ]
     },
     "execution_count": 65,
     "metadata": {},
     "output_type": "execute_result"
    }
   ],
   "source": [
    "modelC.predict(val_X_LRC)"
   ]
  },
  {
   "cell_type": "code",
   "execution_count": 68,
   "metadata": {},
   "outputs": [
    {
     "name": "stdout",
     "output_type": "stream",
     "text": [
      "0.9874223173788992\n",
      "0.4697715058373113\n"
     ]
    },
    {
     "name": "stderr",
     "output_type": "stream",
     "text": [
      "C:\\Users\\THINKPAD\\AppData\\Roaming\\Python\\Python36\\site-packages\\sklearn\\metrics\\ranking.py:104: DeprecationWarning: The 'reorder' parameter has been deprecated in version 0.20 and will be removed in 0.22. It is recommended not to set 'reorder' and ensure that x is monotonic increasing or monotonic decreasing.\n",
      "  DeprecationWarning)\n"
     ]
    }
   ],
   "source": [
    "print(roc_auc_score(val_y_LRC, modelC.predict(val_X_LRC)))\n",
    "print(pr_auc_score(val_y_LRC, modelC.predict(val_X_LRC)))"
   ]
  },
  {
   "cell_type": "code",
   "execution_count": 118,
   "metadata": {},
   "outputs": [
    {
     "name": "stdout",
     "output_type": "stream",
     "text": [
      "threshold 0\n",
      "0.025213240365769544\n",
      "threshold 0.1\n",
      "0.4509423503325943\n",
      "threshold 0.2\n",
      "0.49477221807318894\n",
      "threshold 0.3\n",
      "0.4961352657004831\n",
      "threshold 0.4\n",
      "0.44499381953028433\n",
      "threshold 0.5\n",
      "0.3356589147286822\n",
      "threshold 0.6\n",
      "0.16129032258064516\n",
      "threshold 0.7\n",
      "0.03181336161187699\n",
      "threshold 0.8\n",
      "0.0\n",
      "threshold 0.9\n"
     ]
    },
    {
     "name": "stderr",
     "output_type": "stream",
     "text": [
      "C:\\Users\\THINKPAD\\AppData\\Roaming\\Python\\Python36\\site-packages\\sklearn\\metrics\\classification.py:1143: UndefinedMetricWarning: F-score is ill-defined and being set to 0.0 due to no predicted samples.\n",
      "  'precision', 'predicted', average, warn_for)\n"
     ]
    },
    {
     "name": "stdout",
     "output_type": "stream",
     "text": [
      "0.0\n",
      "threshold 1\n",
      "0.0\n"
     ]
    }
   ],
   "source": [
    "thresholds = [0,0.1,0.2,0.3,0.4,0.5,0.6,0.7,0.8,0.9,1]\n",
    "for t in thresholds:\n",
    "    print('threshold {}'.format(t))\n",
    "    print(f1_score(val_y_LRC, modelC.predict(val_X_LRC)>t))"
   ]
  },
  {
   "cell_type": "code",
   "execution_count": 119,
   "metadata": {},
   "outputs": [
    {
     "name": "stdout",
     "output_type": "stream",
     "text": [
      "              precision    recall  f1-score   support\n",
      "\n",
      "       False       0.99      0.99      0.99    142739\n",
      "        True       0.45      0.56      0.50      1846\n",
      "\n",
      "   micro avg       0.99      0.99      0.99    144585\n",
      "   macro avg       0.72      0.77      0.74    144585\n",
      "weighted avg       0.99      0.99      0.99    144585\n",
      "\n"
     ]
    }
   ],
   "source": [
    "print(classification_report(val_y_LRC, modelC.predict(val_X_LRC)>0.3))"
   ]
  },
  {
   "cell_type": "markdown",
   "metadata": {},
   "source": [
    "#### LightGBM Classification with OverSampling"
   ]
  },
  {
   "cell_type": "code",
   "execution_count": 147,
   "metadata": {},
   "outputs": [
    {
     "name": "stderr",
     "output_type": "stream",
     "text": [
      "C:\\Users\\THINKPAD\\AppData\\Local\\Continuum\\Anaconda3\\envs\\Tensor\\lib\\site-packages\\lightgbm\\basic.py:752: UserWarning: categorical_feature in param dict is overridden.\n",
      "  warnings.warn('categorical_feature in param dict is overridden.')\n"
     ]
    },
    {
     "name": "stdout",
     "output_type": "stream",
     "text": [
      "Training until validation scores don't improve for 100 rounds.\n",
      "[100]\tvalid_0's binary_logloss: 0.0364319\n",
      "[200]\tvalid_0's binary_logloss: 0.036756\n",
      "Early stopping, best iteration is:\n",
      "[129]\tvalid_0's binary_logloss: 0.0361961\n"
     ]
    }
   ],
   "source": [
    "modelC, pred_val_y = run_lgbc(X_resampled, y_resampled, val_X_LRC, val_y_LRC)"
   ]
  },
  {
   "cell_type": "code",
   "execution_count": 89,
   "metadata": {},
   "outputs": [
    {
     "name": "stdout",
     "output_type": "stream",
     "text": [
      "              precision    recall  f1-score   support\n",
      "\n",
      "       False       1.00      0.99      0.99    142739\n",
      "        True       0.39      0.71      0.50      1846\n",
      "\n",
      "   micro avg       0.98      0.98      0.98    144585\n",
      "   macro avg       0.69      0.85      0.75    144585\n",
      "weighted avg       0.99      0.98      0.98    144585\n",
      "\n",
      "0.9821765743334371\n",
      "0.8460677044921566\n"
     ]
    }
   ],
   "source": [
    "print(classification_report(val_y_LRC, modelC.predict(val_X_LRC)>0.5))\n",
    "print(metrics.accuracy_score(val_y_LRC, modelC.predict(val_X_LRC)>0.5))\n",
    "print(roc_auc_score(val_y_LRC, modelC.predict(val_X_LRC)>0.5))"
   ]
  },
  {
   "cell_type": "code",
   "execution_count": 77,
   "metadata": {},
   "outputs": [
    {
     "name": "stdout",
     "output_type": "stream",
     "text": [
      "0.9875121668740309\n",
      "0.4650418351808162\n"
     ]
    },
    {
     "name": "stderr",
     "output_type": "stream",
     "text": [
      "C:\\Users\\THINKPAD\\AppData\\Roaming\\Python\\Python36\\site-packages\\sklearn\\metrics\\ranking.py:104: DeprecationWarning: The 'reorder' parameter has been deprecated in version 0.20 and will be removed in 0.22. It is recommended not to set 'reorder' and ensure that x is monotonic increasing or monotonic decreasing.\n",
      "  DeprecationWarning)\n"
     ]
    }
   ],
   "source": [
    "print(roc_auc_score(val_y_LRC, modelC.predict(val_X_LRC)))\n",
    "print(pr_auc_score(val_y_LRC, modelC.predict(val_X_LRC)))"
   ]
  },
  {
   "cell_type": "code",
   "execution_count": 106,
   "metadata": {},
   "outputs": [
    {
     "name": "stdout",
     "output_type": "stream",
     "text": [
      "threshold 0\n",
      "0.025337826245101606\n",
      "threshold 0.1\n",
      "0.35480000000000006\n",
      "threshold 0.2\n",
      "0.4132171387073348\n",
      "threshold 0.3\n",
      "0.45375560538116594\n",
      "threshold 0.4\n",
      "0.48059508408796897\n",
      "threshold 0.5\n",
      "0.5029893924783028\n",
      "threshold 0.6\n",
      "0.5007045561296384\n",
      "threshold 0.7\n",
      "0.4552261156034741\n",
      "threshold 0.8\n",
      "0.28865131578947373\n",
      "threshold 0.9\n",
      "0.00964630225080386\n",
      "threshold 1\n",
      "0.0\n"
     ]
    }
   ],
   "source": [
    "thresholds = [0,0.1,0.2,0.3,0.4,0.5,0.6,0.7,0.8,0.9,1]\n",
    "for t in thresholds:\n",
    "    print('threshold {}'.format(t))\n",
    "    print(f1_score(val_y_LRC, modelC.predict(val_X_LRC)>t))"
   ]
  },
  {
   "cell_type": "markdown",
   "metadata": {},
   "source": [
    "##### Test"
   ]
  },
  {
   "cell_type": "code",
   "execution_count": 123,
   "metadata": {},
   "outputs": [
    {
     "name": "stdout",
     "output_type": "stream",
     "text": [
      "              precision    recall  f1-score   support\n",
      "\n",
      "       False       1.00      0.99      0.99    178438\n",
      "        True       0.40      0.73      0.52      2293\n",
      "\n",
      "   micro avg       0.98      0.98      0.98    180731\n",
      "   macro avg       0.70      0.86      0.76    180731\n",
      "weighted avg       0.99      0.98      0.99    180731\n",
      "\n"
     ]
    }
   ],
   "source": [
    "print(classification_report(test_y_LRC, modelC.predict(test_X_LRC)>0.5))"
   ]
  },
  {
   "cell_type": "code",
   "execution_count": 114,
   "metadata": {},
   "outputs": [
    {
     "data": {
      "text/plain": [
       "array([3.20930591e-06, 3.76824830e-06, 3.27444145e-07, ...,\n",
       "       4.19498009e-06, 1.80671485e-04, 9.11943538e-03])"
      ]
     },
     "execution_count": 114,
     "metadata": {},
     "output_type": "execute_result"
    }
   ],
   "source": [
    "modelC.predict(test_X_LRC)"
   ]
  },
  {
   "cell_type": "code",
   "execution_count": 92,
   "metadata": {},
   "outputs": [
    {
     "data": {
      "text/plain": [
       "array([False, False, False, ..., False, False, False])"
      ]
     },
     "execution_count": 92,
     "metadata": {},
     "output_type": "execute_result"
    }
   ],
   "source": [
    "val_y_LRC"
   ]
  },
  {
   "cell_type": "markdown",
   "metadata": {},
   "source": [
    "#### LightGBM Classification with SMOTE"
   ]
  },
  {
   "cell_type": "code",
   "execution_count": 113,
   "metadata": {},
   "outputs": [
    {
     "name": "stderr",
     "output_type": "stream",
     "text": [
      "C:\\Users\\THINKPAD\\AppData\\Local\\Continuum\\Anaconda3\\envs\\Tensor\\lib\\site-packages\\lightgbm\\basic.py:752: UserWarning: categorical_feature in param dict is overridden.\n",
      "  warnings.warn('categorical_feature in param dict is overridden.')\n"
     ]
    },
    {
     "name": "stdout",
     "output_type": "stream",
     "text": [
      "Training until validation scores don't improve for 100 rounds.\n",
      "[100]\tvalid_0's binary_logloss: 0.0525258\n",
      "[200]\tvalid_0's binary_logloss: 0.0498024\n",
      "[300]\tvalid_0's binary_logloss: 0.0491613\n",
      "[400]\tvalid_0's binary_logloss: 0.0490201\n",
      "Early stopping, best iteration is:\n",
      "[368]\tvalid_0's binary_logloss: 0.0485076\n"
     ]
    }
   ],
   "source": [
    "modelC, pred_val_y = run_lgbc(X_smote, y_smote, val_X_LRC, val_y_LRC)\n"
   ]
  },
  {
   "cell_type": "code",
   "execution_count": 115,
   "metadata": {},
   "outputs": [
    {
     "name": "stdout",
     "output_type": "stream",
     "text": [
      "              precision    recall  f1-score   support\n",
      "\n",
      "       False       1.00      0.98      0.99    142739\n",
      "        True       0.34      0.64      0.45      1846\n",
      "\n",
      "   micro avg       0.98      0.98      0.98    144585\n",
      "   macro avg       0.67      0.81      0.72    144585\n",
      "weighted avg       0.99      0.98      0.98    144585\n",
      "\n",
      "0.9796244423695404\n",
      "0.8126927746060726\n"
     ]
    }
   ],
   "source": [
    "print(classification_report(val_y_LRC, modelC.predict(val_X_LRC)>0.5))\n",
    "print(metrics.accuracy_score(val_y_LRC, modelC.predict(val_X_LRC)>0.5))\n",
    "print(roc_auc_score(val_y_LRC, modelC.predict(val_X_LRC)>0.5))"
   ]
  },
  {
   "cell_type": "code",
   "execution_count": 80,
   "metadata": {},
   "outputs": [
    {
     "name": "stdout",
     "output_type": "stream",
     "text": [
      "0.9871099390528578\n",
      "0.4361082269185719\n"
     ]
    },
    {
     "name": "stderr",
     "output_type": "stream",
     "text": [
      "C:\\Users\\THINKPAD\\AppData\\Roaming\\Python\\Python36\\site-packages\\sklearn\\metrics\\ranking.py:104: DeprecationWarning: The 'reorder' parameter has been deprecated in version 0.20 and will be removed in 0.22. It is recommended not to set 'reorder' and ensure that x is monotonic increasing or monotonic decreasing.\n",
      "  DeprecationWarning)\n"
     ]
    }
   ],
   "source": [
    "print(roc_auc_score(val_y_LRC, modelC.predict(val_X_LRC)))\n",
    "print(pr_auc_score(val_y_LRC, modelC.predict(val_X_LRC)))"
   ]
  },
  {
   "cell_type": "code",
   "execution_count": 114,
   "metadata": {},
   "outputs": [
    {
     "name": "stdout",
     "output_type": "stream",
     "text": [
      "threshold 0\n",
      "0.028249192770899965\n",
      "threshold 0.1\n",
      "0.38896615669911916\n",
      "threshold 0.2\n",
      "0.42255823457294645\n",
      "threshold 0.3\n",
      "0.44036979969183365\n",
      "threshold 0.4\n",
      "0.44542823088711053\n",
      "threshold 0.5\n",
      "0.445615355664283\n",
      "threshold 0.6\n",
      "0.4420564686051412\n",
      "threshold 0.7\n",
      "0.4341048653755314\n",
      "threshold 0.8\n",
      "0.39902280130293155\n",
      "threshold 0.9\n",
      "0.33399866932801064\n",
      "threshold 1\n",
      "0.0\n"
     ]
    },
    {
     "name": "stderr",
     "output_type": "stream",
     "text": [
      "C:\\Users\\THINKPAD\\AppData\\Roaming\\Python\\Python36\\site-packages\\sklearn\\metrics\\classification.py:1143: UndefinedMetricWarning: F-score is ill-defined and being set to 0.0 due to no predicted samples.\n",
      "  'precision', 'predicted', average, warn_for)\n"
     ]
    }
   ],
   "source": [
    "thresholds = [0,0.1,0.2,0.3,0.4,0.5,0.6,0.7,0.8,0.9,1]\n",
    "for t in thresholds:\n",
    "    print('threshold {}'.format(t))\n",
    "    print(f1_score(val_y_LRC, modelC.predict(val_X_LRC)>t))"
   ]
  },
  {
   "cell_type": "markdown",
   "metadata": {},
   "source": [
    "### Regression"
   ]
  },
  {
   "cell_type": "markdown",
   "metadata": {},
   "source": [
    "#### Linear regression"
   ]
  },
  {
   "cell_type": "code",
   "execution_count": 160,
   "metadata": {},
   "outputs": [],
   "source": [
    "trainsetLR = trainset[trainset['hasRevenue']]\n",
    "train_X_LR = trainsetLR[cateCols + numCols]\n",
    "train_y_LR = np.log(trainsetLR['totals.transactionRevenue'].values + 1)\n",
    "valsetLR = valset[valset['hasRevenue']]\n",
    "val_X_LR = valsetLR[cateCols + numCols]\n",
    "val_y_LR = np.log(valsetLR['totals.transactionRevenue'].values + 1)\n",
    "testsetLR = test[test['hasRevenue']]\n",
    "test_X_LR = testsetLR[cateCols + numCols]\n",
    "test_y_LR = np.log(testsetLR['totals.transactionRevenue'].values + 1)\n"
   ]
  },
  {
   "cell_type": "code",
   "execution_count": 161,
   "metadata": {},
   "outputs": [
    {
     "name": "stdout",
     "output_type": "stream",
     "text": [
      "time: 0.06482672691345215\n",
      "1.158590728808531\n",
      "0.15307436083420267\n"
     ]
    },
    {
     "name": "stderr",
     "output_type": "stream",
     "text": [
      "C:\\Users\\THINKPAD\\AppData\\Roaming\\Python\\Python36\\site-packages\\sklearn\\preprocessing\\data.py:617: DataConversionWarning: Data with input dtype int64 were all converted to float64 by StandardScaler.\n",
      "  return self.partial_fit(X, y)\n",
      "C:\\Users\\THINKPAD\\AppData\\Roaming\\Python\\Python36\\site-packages\\sklearn\\base.py:465: DataConversionWarning: Data with input dtype int64 were all converted to float64 by StandardScaler.\n",
      "  return self.fit(X, y, **fit_params).transform(X)\n",
      "C:\\Users\\THINKPAD\\AppData\\Roaming\\Python\\Python36\\site-packages\\sklearn\\pipeline.py:451: DataConversionWarning: Data with input dtype int64 were all converted to float64 by StandardScaler.\n",
      "  Xt = transform.transform(Xt)\n",
      "C:\\Users\\THINKPAD\\AppData\\Roaming\\Python\\Python36\\site-packages\\sklearn\\pipeline.py:451: DataConversionWarning: Data with input dtype int64 were all converted to float64 by StandardScaler.\n",
      "  Xt = transform.transform(Xt)\n"
     ]
    }
   ],
   "source": [
    "starttime = time.time()\n",
    "numeric_transformer = Pipeline(steps=[('scaler', StandardScaler())])\n",
    "categorical_transformer = Pipeline(steps=[('onehot', OneHotEncoder(handle_unknown='ignore'))])\n",
    "preprocessor = ColumnTransformer(transformers=[('num', numeric_transformer, numCols),\n",
    "                                               ('cat', categorical_transformer, cateCols)])\n",
    "lr = Pipeline(steps=[('preprocessor', preprocessor),\n",
    "                      ('regressor', LinearRegression())])\n",
    "lr.fit(train_X_LR, train_y_LR)\n",
    "print('time: {}'.format(time.time()-starttime))\n",
    "print(np.sqrt(metrics.mean_squared_error(val_y_LR, lr.predict(val_X_LR))))\n",
    "print(lr.score(train_X_LR, train_y_LR))"
   ]
  },
  {
   "cell_type": "markdown",
   "metadata": {},
   "source": [
    "##### Test"
   ]
  },
  {
   "cell_type": "code",
   "execution_count": 132,
   "metadata": {},
   "outputs": [
    {
     "name": "stdout",
     "output_type": "stream",
     "text": [
      "time: 0.05983877182006836\n",
      "1.0931703756689766\n"
     ]
    },
    {
     "name": "stderr",
     "output_type": "stream",
     "text": [
      "C:\\Users\\THINKPAD\\AppData\\Roaming\\Python\\Python36\\site-packages\\sklearn\\preprocessing\\data.py:617: DataConversionWarning: Data with input dtype int64 were all converted to float64 by StandardScaler.\n",
      "  return self.partial_fit(X, y)\n",
      "C:\\Users\\THINKPAD\\AppData\\Roaming\\Python\\Python36\\site-packages\\sklearn\\base.py:465: DataConversionWarning: Data with input dtype int64 were all converted to float64 by StandardScaler.\n",
      "  return self.fit(X, y, **fit_params).transform(X)\n",
      "C:\\Users\\THINKPAD\\AppData\\Roaming\\Python\\Python36\\site-packages\\sklearn\\pipeline.py:451: DataConversionWarning: Data with input dtype int64 were all converted to float64 by StandardScaler.\n",
      "  Xt = transform.transform(Xt)\n"
     ]
    }
   ],
   "source": [
    "starttime = time.time()\n",
    "numeric_transformer = Pipeline(steps=[('scaler', StandardScaler())])\n",
    "categorical_transformer = Pipeline(steps=[('onehot', OneHotEncoder(handle_unknown='ignore'))])\n",
    "preprocessor = ColumnTransformer(transformers=[('num', numeric_transformer, numCols),\n",
    "                                               ('cat', categorical_transformer, cateCols)])\n",
    "lr = Pipeline(steps=[('preprocessor', preprocessor),\n",
    "                      ('regressor', LinearRegression())])\n",
    "lr.fit(train_X_LR, train_y_LR)\n",
    "print('time: {}'.format(time.time()-starttime))\n",
    "print(np.sqrt(metrics.mean_squared_error(test_y_LR, lr.predict(test_X_LR))))"
   ]
  },
  {
   "cell_type": "markdown",
   "metadata": {},
   "source": [
    "#### LGB regression"
   ]
  },
  {
   "cell_type": "code",
   "execution_count": 148,
   "metadata": {},
   "outputs": [
    {
     "name": "stdout",
     "output_type": "stream",
     "text": [
      "Training until validation scores don't improve for 100 rounds.\n",
      "[100]\tvalid_0's rmse: 1.11013\n",
      "Early stopping, best iteration is:\n",
      "[71]\tvalid_0's rmse: 1.10817\n",
      "time: 0.386962890625\n",
      "1.1081722280341082\n"
     ]
    }
   ],
   "source": [
    "starttime = time.time()\n",
    "modelR, pred_val_y = run_lgb(train_X_LR, train_y_LR, val_X_LR, val_y_LR)\n",
    "print('time: {}'.format(time.time()-starttime))\n",
    "#print(np.sqrt(metrics.mean_squared_error(val_y_LR, model.predict(val_X_LR))))\n",
    "print(np.sqrt(metrics.mean_squared_error(val_y_LR, pred_val_y)))"
   ]
  },
  {
   "cell_type": "code",
   "execution_count": 137,
   "metadata": {},
   "outputs": [
    {
     "name": "stderr",
     "output_type": "stream",
     "text": [
      "C:\\Users\\THINKPAD\\AppData\\Local\\Continuum\\Anaconda3\\envs\\Tensor\\lib\\site-packages\\lightgbm\\basic.py:752: UserWarning: categorical_feature in param dict is overridden.\n",
      "  warnings.warn('categorical_feature in param dict is overridden.')\n"
     ]
    },
    {
     "name": "stdout",
     "output_type": "stream",
     "text": [
      "Training until validation scores don't improve for 100 rounds.\n",
      "[100]\tvalid_0's rmse: 1.06141\n",
      "Early stopping, best iteration is:\n",
      "[56]\tvalid_0's rmse: 1.05986\n",
      "time: 0.3337075710296631\n",
      "1.0598636471378275\n"
     ]
    }
   ],
   "source": [
    "starttime = time.time()\n",
    "modelR, pred_test_y = run_lgb(train_X_LR, train_y_LR, test_X_LR, test_y_LR)\n",
    "print('time: {}'.format(time.time()-starttime))\n",
    "#print(np.sqrt(metrics.mean_squared_error(val_y_LR, model.predict(val_X_LR))))\n",
    "print(np.sqrt(metrics.mean_squared_error(test_y_LR, pred_test_y)))"
   ]
  },
  {
   "cell_type": "markdown",
   "metadata": {},
   "source": [
    "#### XGBoost"
   ]
  },
  {
   "cell_type": "code",
   "execution_count": 139,
   "metadata": {},
   "outputs": [],
   "source": [
    "def run_xgb(X_train, y_train, X_val, y_val):\n",
    "    params = {'objective': 'reg:linear',\n",
    "              'eval_metric': 'rmse',\n",
    "              'eta': 0.001,\n",
    "              'max_depth': 10,\n",
    "              'subsample': 0.6,\n",
    "              'colsample_bytree': 0.6,\n",
    "              'alpha':0.001,\n",
    "              'random_state': 42,\n",
    "              'silent': True}\n",
    "\n",
    "    xgb_train_data = xgb.DMatrix(X_train.values, y_train.values)\n",
    "    xgb_val_data = xgb.DMatrix(X_val.values, y_val.values)\n",
    "    #xgb_submit_data = xgb.DMatrix(X_test)\n",
    "    model = xgb.train(params, xgb_train_data, \n",
    "                      num_boost_round=2000, \n",
    "                      evals= [(xgb_train_data, 'train'), (xgb_val_data, 'valid')],\n",
    "                      early_stopping_rounds=100, \n",
    "                      verbose_eval=500\n",
    "                     )\n",
    "\n",
    "    y_pred_train = model.predict(xgb_train_data, ntree_limit=model.best_ntree_limit)\n",
    "    y_pred_val = model.predict(xgb_val_data, ntree_limit=model.best_ntree_limit)\n",
    "    #y_pred_submit = model.predict(xgb_submit_data, ntree_limit=model.best_ntree_limit)\n",
    "\n",
    "    return model, y_pred_val "
   ]
  },
  {
   "cell_type": "code",
   "execution_count": 123,
   "metadata": {},
   "outputs": [
    {
     "name": "stdout",
     "output_type": "stream",
     "text": [
      "[0]\ttrain-rmse:17.3331\tvalid-rmse:17.3771\n",
      "Multiple eval metrics have been passed: 'valid-rmse' will be used for early stopping.\n",
      "\n",
      "Will train until valid-rmse hasn't improved in 100 rounds.\n",
      "[500]\ttrain-rmse:10.5527\tvalid-rmse:10.5959\n",
      "[1000]\ttrain-rmse:6.46309\tvalid-rmse:6.50717\n",
      "[1500]\ttrain-rmse:4.01722\tvalid-rmse:4.06378\n",
      "[1999]\ttrain-rmse:2.58529\tvalid-rmse:2.64047\n",
      "time: 14.23649549484253\n",
      "2.640467515354605\n"
     ]
    }
   ],
   "source": [
    "starttime = time.time()\n",
    "xgb_model, xgb_preds = run_xgb(train_X_LR, pd.DataFrame(train_y_LR), val_X_LR, pd.DataFrame(val_y_LR))\n",
    "print('time: {}'.format(time.time()-starttime))\n",
    "print(np.sqrt(metrics.mean_squared_error(val_y_LR, xgb_preds)))"
   ]
  },
  {
   "cell_type": "code",
   "execution_count": 142,
   "metadata": {},
   "outputs": [
    {
     "name": "stdout",
     "output_type": "stream",
     "text": [
      "[0]\ttrain-rmse:17.3331\tvalid-rmse:17.3713\n",
      "Multiple eval metrics have been passed: 'valid-rmse' will be used for early stopping.\n",
      "\n",
      "Will train until valid-rmse hasn't improved in 100 rounds.\n",
      "[500]\ttrain-rmse:10.5527\tvalid-rmse:10.5882\n",
      "[1000]\ttrain-rmse:6.46309\tvalid-rmse:6.49585\n",
      "[1500]\ttrain-rmse:4.01722\tvalid-rmse:4.04811\n",
      "[1999]\ttrain-rmse:2.58529\tvalid-rmse:2.61788\n",
      "time: 13.580903053283691\n",
      "2.6178792726271207\n"
     ]
    }
   ],
   "source": [
    "starttime = time.time()\n",
    "xgb_model, xgb_preds = run_xgb(train_X_LR, pd.DataFrame(train_y_LR), test_X_LR, pd.DataFrame(test_y_LR))\n",
    "print('time: {}'.format(time.time()-starttime))\n",
    "print(np.sqrt(metrics.mean_squared_error(test_y_LR, xgb_preds)))"
   ]
  },
  {
   "cell_type": "markdown",
   "metadata": {},
   "source": [
    "#### CatBoost"
   ]
  },
  {
   "cell_type": "code",
   "execution_count": 143,
   "metadata": {},
   "outputs": [],
   "source": [
    "def run_catboost(X_train, y_train, X_val, y_val):\n",
    "    model = CatBoostRegressor(iterations=1000,\n",
    "                             learning_rate=0.05,\n",
    "                             depth=10,\n",
    "                             eval_metric='RMSE',\n",
    "                             random_seed = 42,\n",
    "                             bagging_temperature = 0.2,\n",
    "                             od_type='Iter',\n",
    "                             metric_period = 50,\n",
    "                             od_wait=20)\n",
    "    model.fit(X_train, y_train,\n",
    "              eval_set=(X_val, y_val),\n",
    "              use_best_model=True,\n",
    "              verbose=False)\n",
    "    y_pred_train = model.predict(X_train)\n",
    "    y_pred_val = model.predict(X_val)\n",
    "   # y_pred_submit = model.predict(X_test)\n",
    "\n",
    "    return model, y_pred_val"
   ]
  },
  {
   "cell_type": "code",
   "execution_count": 125,
   "metadata": {},
   "outputs": [
    {
     "name": "stderr",
     "output_type": "stream",
     "text": [
      "Warning: Overfitting detector is active, thus evaluation metric is calculated on every iteration. 'metric_period' is ignored for evaluation metric.\n"
     ]
    },
    {
     "name": "stdout",
     "output_type": "stream",
     "text": [
      "time: 21.337007522583008\n",
      "1.134015227128452\n"
     ]
    }
   ],
   "source": [
    "starttime = time.time()\n",
    "cat_model, cat_preds = run_catboost(train_X_LR, train_y_LR, val_X_LR, val_y_LR)\n",
    "print('time: {}'.format(time.time()-starttime))\n",
    "print(np.sqrt(metrics.mean_squared_error(val_y_LR, cat_preds)))"
   ]
  },
  {
   "cell_type": "code",
   "execution_count": 144,
   "metadata": {},
   "outputs": [
    {
     "name": "stderr",
     "output_type": "stream",
     "text": [
      "Warning: Overfitting detector is active, thus evaluation metric is calculated on every iteration. 'metric_period' is ignored for evaluation metric.\n"
     ]
    },
    {
     "name": "stdout",
     "output_type": "stream",
     "text": [
      "time: 16.987916469573975\n",
      "1.0890722209776038\n"
     ]
    }
   ],
   "source": [
    "starttime = time.time()\n",
    "cat_model, cat_preds = run_catboost(train_X_LR, train_y_LR, test_X_LR, test_y_LR)\n",
    "print('time: {}'.format(time.time()-starttime))\n",
    "print(np.sqrt(metrics.mean_squared_error(test_y_LR, cat_preds)))"
   ]
  },
  {
   "cell_type": "markdown",
   "metadata": {},
   "source": [
    "### Itegrated Models"
   ]
  },
  {
   "cell_type": "markdown",
   "metadata": {
    "collapsed": true
   },
   "source": [
    "#### LGB Pipeline"
   ]
  },
  {
   "cell_type": "code",
   "execution_count": 78,
   "metadata": {
    "scrolled": true
   },
   "outputs": [
    {
     "name": "stderr",
     "output_type": "stream",
     "text": [
      "/Users/Tianyi/anaconda3/lib/python3.6/site-packages/ipykernel_launcher.py:1: SettingWithCopyWarning: \n",
      "A value is trying to be set on a copy of a slice from a DataFrame.\n",
      "Try using .loc[row_indexer,col_indexer] = value instead\n",
      "\n",
      "See the caveats in the documentation: http://pandas.pydata.org/pandas-docs/stable/indexing.html#indexing-view-versus-copy\n",
      "  \"\"\"Entry point for launching an IPython kernel.\n"
     ]
    },
    {
     "name": "stdout",
     "output_type": "stream",
     "text": [
      "2.377435647373111\n"
     ]
    },
    {
     "name": "stderr",
     "output_type": "stream",
     "text": [
      "/Users/Tianyi/anaconda3/lib/python3.6/site-packages/ipykernel_launcher.py:2: SettingWithCopyWarning: \n",
      "A value is trying to be set on a copy of a slice from a DataFrame.\n",
      "Try using .loc[row_indexer,col_indexer] = value instead\n",
      "\n",
      "See the caveats in the documentation: http://pandas.pydata.org/pandas-docs/stable/indexing.html#indexing-view-versus-copy\n",
      "  \n"
     ]
    }
   ],
   "source": [
    "val_X['pred_hasRevenue'] = modelC.predict(val_X)>0.5\n",
    "val_X['pred_Revenue'] = modelR.predict(val_X)\n",
    "pred = val_X['pred_hasRevenue'].values * val_X['pred_Revenue'].values\n",
    "pred[pred<0] = 0\n",
    "print(np.sqrt(metrics.mean_squared_error(val_y, pred)))"
   ]
  },
  {
   "cell_type": "markdown",
   "metadata": {},
   "source": [
    "##### Random oversampling"
   ]
  },
  {
   "cell_type": "code",
   "execution_count": 55,
   "metadata": {},
   "outputs": [
    {
     "name": "stderr",
     "output_type": "stream",
     "text": [
      "C:\\Users\\THINKPAD\\AppData\\Local\\Continuum\\Anaconda3\\envs\\Tensor\\lib\\site-packages\\ipykernel_launcher.py:1: SettingWithCopyWarning: \n",
      "A value is trying to be set on a copy of a slice from a DataFrame.\n",
      "Try using .loc[row_indexer,col_indexer] = value instead\n",
      "\n",
      "See the caveats in the documentation: http://pandas.pydata.org/pandas-docs/stable/indexing.html#indexing-view-versus-copy\n",
      "  \"\"\"Entry point for launching an IPython kernel.\n"
     ]
    },
    {
     "name": "stdout",
     "output_type": "stream",
     "text": [
      "2.377435647373111\n"
     ]
    },
    {
     "name": "stderr",
     "output_type": "stream",
     "text": [
      "C:\\Users\\THINKPAD\\AppData\\Local\\Continuum\\Anaconda3\\envs\\Tensor\\lib\\site-packages\\ipykernel_launcher.py:2: SettingWithCopyWarning: \n",
      "A value is trying to be set on a copy of a slice from a DataFrame.\n",
      "Try using .loc[row_indexer,col_indexer] = value instead\n",
      "\n",
      "See the caveats in the documentation: http://pandas.pydata.org/pandas-docs/stable/indexing.html#indexing-view-versus-copy\n",
      "  \n"
     ]
    }
   ],
   "source": [
    "val_X['pred_hasRevenue'] = modelC.predict(val_X)>0.5\n",
    "val_X['pred_Revenue'] = modelR.predict(val_X)\n",
    "pred = val_X['pred_hasRevenue'].values * val_X['pred_Revenue'].values\n",
    "pred[pred<0] = 0\n",
    "print(np.sqrt(metrics.mean_squared_error(val_y, pred)))"
   ]
  },
  {
   "cell_type": "markdown",
   "metadata": {},
   "source": [
    "##### Test"
   ]
  },
  {
   "cell_type": "code",
   "execution_count": 149,
   "metadata": {},
   "outputs": [
    {
     "name": "stderr",
     "output_type": "stream",
     "text": [
      "C:\\Users\\THINKPAD\\AppData\\Local\\Continuum\\Anaconda3\\envs\\Tensor\\lib\\site-packages\\ipykernel_launcher.py:1: SettingWithCopyWarning: \n",
      "A value is trying to be set on a copy of a slice from a DataFrame.\n",
      "Try using .loc[row_indexer,col_indexer] = value instead\n",
      "\n",
      "See the caveats in the documentation: http://pandas.pydata.org/pandas-docs/stable/indexing.html#indexing-view-versus-copy\n",
      "  \"\"\"Entry point for launching an IPython kernel.\n"
     ]
    },
    {
     "name": "stdout",
     "output_type": "stream",
     "text": [
      "2.325744329363576\n"
     ]
    },
    {
     "name": "stderr",
     "output_type": "stream",
     "text": [
      "C:\\Users\\THINKPAD\\AppData\\Local\\Continuum\\Anaconda3\\envs\\Tensor\\lib\\site-packages\\ipykernel_launcher.py:2: SettingWithCopyWarning: \n",
      "A value is trying to be set on a copy of a slice from a DataFrame.\n",
      "Try using .loc[row_indexer,col_indexer] = value instead\n",
      "\n",
      "See the caveats in the documentation: http://pandas.pydata.org/pandas-docs/stable/indexing.html#indexing-view-versus-copy\n",
      "  \n"
     ]
    }
   ],
   "source": [
    "test_X['pred_hasRevenue'] = modelC.predict(test_X)>0.5\n",
    "test_X['pred_Revenue'] = modelR.predict(test_X)\n",
    "pred = test_X['pred_hasRevenue'].values * test_X['pred_Revenue'].values\n",
    "pred[pred<0] = 0\n",
    "print(np.sqrt(metrics.mean_squared_error(test_y, pred)))"
   ]
  },
  {
   "cell_type": "markdown",
   "metadata": {},
   "source": [
    "#### Logistic Regression + OLS"
   ]
  },
  {
   "cell_type": "code",
   "execution_count": 79,
   "metadata": {},
   "outputs": [
    {
     "name": "stderr",
     "output_type": "stream",
     "text": [
      "/Users/Tianyi/anaconda3/lib/python3.6/site-packages/sklearn/pipeline.py:451: DataConversionWarning: Data with input dtype int64 were all converted to float64 by StandardScaler.\n",
      "  Xt = transform.transform(Xt)\n",
      "/Users/Tianyi/anaconda3/lib/python3.6/site-packages/ipykernel_launcher.py:1: SettingWithCopyWarning: \n",
      "A value is trying to be set on a copy of a slice from a DataFrame.\n",
      "Try using .loc[row_indexer,col_indexer] = value instead\n",
      "\n",
      "See the caveats in the documentation: http://pandas.pydata.org/pandas-docs/stable/indexing.html#indexing-view-versus-copy\n",
      "  \"\"\"Entry point for launching an IPython kernel.\n",
      "/Users/Tianyi/anaconda3/lib/python3.6/site-packages/sklearn/pipeline.py:451: DataConversionWarning: Data with input dtype int64 were all converted to float64 by StandardScaler.\n",
      "  Xt = transform.transform(Xt)\n"
     ]
    },
    {
     "name": "stdout",
     "output_type": "stream",
     "text": [
      "2.1908873710056307\n"
     ]
    },
    {
     "name": "stderr",
     "output_type": "stream",
     "text": [
      "/Users/Tianyi/anaconda3/lib/python3.6/site-packages/ipykernel_launcher.py:2: SettingWithCopyWarning: \n",
      "A value is trying to be set on a copy of a slice from a DataFrame.\n",
      "Try using .loc[row_indexer,col_indexer] = value instead\n",
      "\n",
      "See the caveats in the documentation: http://pandas.pydata.org/pandas-docs/stable/indexing.html#indexing-view-versus-copy\n",
      "  \n"
     ]
    }
   ],
   "source": [
    "val_X['pred_hasRevenue'] = clf.predict(val_X)>0.5\n",
    "val_X['pred_Revenue'] = lr.predict(val_X)\n",
    "pred = val_X['pred_hasRevenue'].values * val_X['pred_Revenue'].values\n",
    "pred[pred<0] = 0\n",
    "print(np.sqrt(metrics.mean_squared_error(val_y, pred)))"
   ]
  },
  {
   "cell_type": "code",
   "execution_count": null,
   "metadata": {},
   "outputs": [],
   "source": []
  },
  {
   "cell_type": "code",
   "execution_count": 62,
   "metadata": {},
   "outputs": [
    {
     "name": "stderr",
     "output_type": "stream",
     "text": [
      "C:\\Users\\THINKPAD\\AppData\\Roaming\\Python\\Python36\\site-packages\\sklearn\\pipeline.py:451: DataConversionWarning: Data with input dtype int64 were all converted to float64 by StandardScaler.\n",
      "  Xt = transform.transform(Xt)\n",
      "C:\\Users\\THINKPAD\\AppData\\Local\\Continuum\\Anaconda3\\envs\\Tensor\\lib\\site-packages\\ipykernel_launcher.py:1: SettingWithCopyWarning: \n",
      "A value is trying to be set on a copy of a slice from a DataFrame.\n",
      "Try using .loc[row_indexer,col_indexer] = value instead\n",
      "\n",
      "See the caveats in the documentation: http://pandas.pydata.org/pandas-docs/stable/indexing.html#indexing-view-versus-copy\n",
      "  \"\"\"Entry point for launching an IPython kernel.\n",
      "C:\\Users\\THINKPAD\\AppData\\Roaming\\Python\\Python36\\site-packages\\sklearn\\pipeline.py:451: DataConversionWarning: Data with input dtype int64 were all converted to float64 by StandardScaler.\n",
      "  Xt = transform.transform(Xt)\n"
     ]
    },
    {
     "name": "stdout",
     "output_type": "stream",
     "text": [
      "2.1907091211275564\n"
     ]
    },
    {
     "name": "stderr",
     "output_type": "stream",
     "text": [
      "C:\\Users\\THINKPAD\\AppData\\Local\\Continuum\\Anaconda3\\envs\\Tensor\\lib\\site-packages\\ipykernel_launcher.py:2: SettingWithCopyWarning: \n",
      "A value is trying to be set on a copy of a slice from a DataFrame.\n",
      "Try using .loc[row_indexer,col_indexer] = value instead\n",
      "\n",
      "See the caveats in the documentation: http://pandas.pydata.org/pandas-docs/stable/indexing.html#indexing-view-versus-copy\n",
      "  \n"
     ]
    }
   ],
   "source": [
    "val_X['pred_hasRevenue'] = clf.predict(val_X)>0.4\n",
    "val_X['pred_Revenue'] = lr.predict(val_X)\n",
    "pred = val_X['pred_hasRevenue'].values * val_X['pred_Revenue'].values\n",
    "pred[pred<0] = 0\n",
    "print(np.sqrt(metrics.mean_squared_error(val_y, pred)))"
   ]
  },
  {
   "cell_type": "markdown",
   "metadata": {},
   "source": [
    "##### Test"
   ]
  },
  {
   "cell_type": "code",
   "execution_count": 164,
   "metadata": {},
   "outputs": [
    {
     "name": "stderr",
     "output_type": "stream",
     "text": [
      "C:\\Users\\THINKPAD\\AppData\\Roaming\\Python\\Python36\\site-packages\\sklearn\\pipeline.py:451: DataConversionWarning: Data with input dtype int64 were all converted to float64 by StandardScaler.\n",
      "  Xt = transform.transform(Xt)\n",
      "C:\\Users\\THINKPAD\\AppData\\Local\\Continuum\\Anaconda3\\envs\\Tensor\\lib\\site-packages\\ipykernel_launcher.py:1: SettingWithCopyWarning: \n",
      "A value is trying to be set on a copy of a slice from a DataFrame.\n",
      "Try using .loc[row_indexer,col_indexer] = value instead\n",
      "\n",
      "See the caveats in the documentation: http://pandas.pydata.org/pandas-docs/stable/indexing.html#indexing-view-versus-copy\n",
      "  \"\"\"Entry point for launching an IPython kernel.\n",
      "C:\\Users\\THINKPAD\\AppData\\Roaming\\Python\\Python36\\site-packages\\sklearn\\pipeline.py:451: DataConversionWarning: Data with input dtype int64 were all converted to float64 by StandardScaler.\n",
      "  Xt = transform.transform(Xt)\n"
     ]
    },
    {
     "name": "stdout",
     "output_type": "stream",
     "text": [
      "2.1470311515444513\n"
     ]
    },
    {
     "name": "stderr",
     "output_type": "stream",
     "text": [
      "C:\\Users\\THINKPAD\\AppData\\Local\\Continuum\\Anaconda3\\envs\\Tensor\\lib\\site-packages\\ipykernel_launcher.py:2: SettingWithCopyWarning: \n",
      "A value is trying to be set on a copy of a slice from a DataFrame.\n",
      "Try using .loc[row_indexer,col_indexer] = value instead\n",
      "\n",
      "See the caveats in the documentation: http://pandas.pydata.org/pandas-docs/stable/indexing.html#indexing-view-versus-copy\n",
      "  \n"
     ]
    }
   ],
   "source": [
    "test_X['pred_hasRevenue'] = clf.predict(test_X)>0.4\n",
    "test_X['pred_Revenue'] = lr.predict(test_X)\n",
    "pred = test_X['pred_hasRevenue'].values * test_X['pred_Revenue'].values\n",
    "pred[pred<0] = 0\n",
    "print(np.sqrt(metrics.mean_squared_error(test_y, pred)))"
   ]
  },
  {
   "cell_type": "markdown",
   "metadata": {},
   "source": [
    "#### LightGBM + OLS"
   ]
  },
  {
   "cell_type": "code",
   "execution_count": 96,
   "metadata": {},
   "outputs": [
    {
     "name": "stderr",
     "output_type": "stream",
     "text": [
      "C:\\Users\\THINKPAD\\AppData\\Local\\Continuum\\Anaconda3\\lib\\site-packages\\ipykernel_launcher.py:1: SettingWithCopyWarning: \n",
      "A value is trying to be set on a copy of a slice from a DataFrame.\n",
      "Try using .loc[row_indexer,col_indexer] = value instead\n",
      "\n",
      "See the caveats in the documentation: http://pandas.pydata.org/pandas-docs/stable/indexing.html#indexing-view-versus-copy\n",
      "  \"\"\"Entry point for launching an IPython kernel.\n",
      "C:\\Users\\THINKPAD\\AppData\\Roaming\\Python\\Python36\\site-packages\\sklearn\\pipeline.py:451: DataConversionWarning: Data with input dtype int64 were all converted to float64 by StandardScaler.\n",
      "  Xt = transform.transform(Xt)\n"
     ]
    },
    {
     "name": "stdout",
     "output_type": "stream",
     "text": [
      "2.5441191304091784\n"
     ]
    },
    {
     "name": "stderr",
     "output_type": "stream",
     "text": [
      "C:\\Users\\THINKPAD\\AppData\\Local\\Continuum\\Anaconda3\\lib\\site-packages\\ipykernel_launcher.py:2: SettingWithCopyWarning: \n",
      "A value is trying to be set on a copy of a slice from a DataFrame.\n",
      "Try using .loc[row_indexer,col_indexer] = value instead\n",
      "\n",
      "See the caveats in the documentation: http://pandas.pydata.org/pandas-docs/stable/indexing.html#indexing-view-versus-copy\n",
      "  \n"
     ]
    }
   ],
   "source": [
    "val_X['pred_hasRevenue'] = modelC.predict(val_X)>0.5\n",
    "val_X['pred_Revenue'] = lr.predict(val_X)\n",
    "pred = val_X['pred_hasRevenue'].values * val_X['pred_Revenue'].values\n",
    "pred[pred<0] = 0\n",
    "print(np.sqrt(metrics.mean_squared_error(val_y, pred)))"
   ]
  },
  {
   "cell_type": "code",
   "execution_count": null,
   "metadata": {},
   "outputs": [],
   "source": []
  },
  {
   "cell_type": "code",
   "execution_count": 152,
   "metadata": {},
   "outputs": [
    {
     "name": "stderr",
     "output_type": "stream",
     "text": [
      "C:\\Users\\THINKPAD\\AppData\\Local\\Continuum\\Anaconda3\\envs\\Tensor\\lib\\site-packages\\ipykernel_launcher.py:1: SettingWithCopyWarning: \n",
      "A value is trying to be set on a copy of a slice from a DataFrame.\n",
      "Try using .loc[row_indexer,col_indexer] = value instead\n",
      "\n",
      "See the caveats in the documentation: http://pandas.pydata.org/pandas-docs/stable/indexing.html#indexing-view-versus-copy\n",
      "  \"\"\"Entry point for launching an IPython kernel.\n",
      "C:\\Users\\THINKPAD\\AppData\\Roaming\\Python\\Python36\\site-packages\\sklearn\\pipeline.py:451: DataConversionWarning: Data with input dtype int64 were all converted to float64 by StandardScaler.\n",
      "  Xt = transform.transform(Xt)\n"
     ]
    },
    {
     "name": "stdout",
     "output_type": "stream",
     "text": [
      "2.3764584089117013\n"
     ]
    },
    {
     "name": "stderr",
     "output_type": "stream",
     "text": [
      "C:\\Users\\THINKPAD\\AppData\\Local\\Continuum\\Anaconda3\\envs\\Tensor\\lib\\site-packages\\ipykernel_launcher.py:2: SettingWithCopyWarning: \n",
      "A value is trying to be set on a copy of a slice from a DataFrame.\n",
      "Try using .loc[row_indexer,col_indexer] = value instead\n",
      "\n",
      "See the caveats in the documentation: http://pandas.pydata.org/pandas-docs/stable/indexing.html#indexing-view-versus-copy\n",
      "  \n"
     ]
    }
   ],
   "source": [
    "val_X['pred_hasRevenue'] = modelC.predict(val_X)>0.5\n",
    "val_X['pred_Revenue'] = lr.predict(val_X)\n",
    "pred = val_X['pred_hasRevenue'].values * val_X['pred_Revenue'].values\n",
    "pred[pred<0] = 0\n",
    "print(np.sqrt(metrics.mean_squared_error(val_y, pred)))"
   ]
  },
  {
   "cell_type": "markdown",
   "metadata": {},
   "source": [
    "##### Test"
   ]
  },
  {
   "cell_type": "code",
   "execution_count": 153,
   "metadata": {},
   "outputs": [
    {
     "name": "stderr",
     "output_type": "stream",
     "text": [
      "C:\\Users\\THINKPAD\\AppData\\Local\\Continuum\\Anaconda3\\envs\\Tensor\\lib\\site-packages\\ipykernel_launcher.py:1: SettingWithCopyWarning: \n",
      "A value is trying to be set on a copy of a slice from a DataFrame.\n",
      "Try using .loc[row_indexer,col_indexer] = value instead\n",
      "\n",
      "See the caveats in the documentation: http://pandas.pydata.org/pandas-docs/stable/indexing.html#indexing-view-versus-copy\n",
      "  \"\"\"Entry point for launching an IPython kernel.\n",
      "C:\\Users\\THINKPAD\\AppData\\Roaming\\Python\\Python36\\site-packages\\sklearn\\pipeline.py:451: DataConversionWarning: Data with input dtype int64 were all converted to float64 by StandardScaler.\n",
      "  Xt = transform.transform(Xt)\n"
     ]
    },
    {
     "name": "stdout",
     "output_type": "stream",
     "text": [
      "2.3238962418394347\n"
     ]
    },
    {
     "name": "stderr",
     "output_type": "stream",
     "text": [
      "C:\\Users\\THINKPAD\\AppData\\Local\\Continuum\\Anaconda3\\envs\\Tensor\\lib\\site-packages\\ipykernel_launcher.py:2: SettingWithCopyWarning: \n",
      "A value is trying to be set on a copy of a slice from a DataFrame.\n",
      "Try using .loc[row_indexer,col_indexer] = value instead\n",
      "\n",
      "See the caveats in the documentation: http://pandas.pydata.org/pandas-docs/stable/indexing.html#indexing-view-versus-copy\n",
      "  \n"
     ]
    }
   ],
   "source": [
    "test_X['pred_hasRevenue'] = modelC.predict(test_X)>0.5\n",
    "test_X['pred_Revenue'] = lr.predict(test_X)\n",
    "pred = test_X['pred_hasRevenue'].values * test_X['pred_Revenue'].values\n",
    "pred[pred<0] = 0\n",
    "print(np.sqrt(metrics.mean_squared_error(test_y, pred)))"
   ]
  },
  {
   "cell_type": "markdown",
   "metadata": {},
   "source": [
    "#### Logistic Regression + LGB regression"
   ]
  },
  {
   "cell_type": "code",
   "execution_count": 97,
   "metadata": {
    "scrolled": true
   },
   "outputs": [
    {
     "name": "stderr",
     "output_type": "stream",
     "text": [
      "C:\\Users\\THINKPAD\\AppData\\Roaming\\Python\\Python36\\site-packages\\sklearn\\pipeline.py:451: DataConversionWarning: Data with input dtype int64 were all converted to float64 by StandardScaler.\n",
      "  Xt = transform.transform(Xt)\n",
      "C:\\Users\\THINKPAD\\AppData\\Local\\Continuum\\Anaconda3\\lib\\site-packages\\ipykernel_launcher.py:1: SettingWithCopyWarning: \n",
      "A value is trying to be set on a copy of a slice from a DataFrame.\n",
      "Try using .loc[row_indexer,col_indexer] = value instead\n",
      "\n",
      "See the caveats in the documentation: http://pandas.pydata.org/pandas-docs/stable/indexing.html#indexing-view-versus-copy\n",
      "  \"\"\"Entry point for launching an IPython kernel.\n"
     ]
    },
    {
     "name": "stdout",
     "output_type": "stream",
     "text": [
      "2.1834020357505755\n"
     ]
    },
    {
     "name": "stderr",
     "output_type": "stream",
     "text": [
      "C:\\Users\\THINKPAD\\AppData\\Local\\Continuum\\Anaconda3\\lib\\site-packages\\ipykernel_launcher.py:2: SettingWithCopyWarning: \n",
      "A value is trying to be set on a copy of a slice from a DataFrame.\n",
      "Try using .loc[row_indexer,col_indexer] = value instead\n",
      "\n",
      "See the caveats in the documentation: http://pandas.pydata.org/pandas-docs/stable/indexing.html#indexing-view-versus-copy\n",
      "  \n"
     ]
    }
   ],
   "source": [
    "val_X['pred_hasRevenue'] = clf.predict(val_X)>0.5\n",
    "val_X['pred_Revenue'] = modelR.predict(val_X)\n",
    "pred = val_X['pred_hasRevenue'].values * val_X['pred_Revenue'].values\n",
    "pred[pred<0] = 0\n",
    "print(np.sqrt(metrics.mean_squared_error(val_y, pred)))"
   ]
  },
  {
   "cell_type": "code",
   "execution_count": null,
   "metadata": {},
   "outputs": [],
   "source": []
  },
  {
   "cell_type": "code",
   "execution_count": 156,
   "metadata": {},
   "outputs": [
    {
     "name": "stderr",
     "output_type": "stream",
     "text": [
      "C:\\Users\\THINKPAD\\AppData\\Roaming\\Python\\Python36\\site-packages\\sklearn\\pipeline.py:451: DataConversionWarning: Data with input dtype int64 were all converted to float64 by StandardScaler.\n",
      "  Xt = transform.transform(Xt)\n",
      "C:\\Users\\THINKPAD\\AppData\\Local\\Continuum\\Anaconda3\\envs\\Tensor\\lib\\site-packages\\ipykernel_launcher.py:1: SettingWithCopyWarning: \n",
      "A value is trying to be set on a copy of a slice from a DataFrame.\n",
      "Try using .loc[row_indexer,col_indexer] = value instead\n",
      "\n",
      "See the caveats in the documentation: http://pandas.pydata.org/pandas-docs/stable/indexing.html#indexing-view-versus-copy\n",
      "  \"\"\"Entry point for launching an IPython kernel.\n"
     ]
    },
    {
     "name": "stdout",
     "output_type": "stream",
     "text": [
      "2.195045626271284\n"
     ]
    },
    {
     "name": "stderr",
     "output_type": "stream",
     "text": [
      "C:\\Users\\THINKPAD\\AppData\\Local\\Continuum\\Anaconda3\\envs\\Tensor\\lib\\site-packages\\ipykernel_launcher.py:2: SettingWithCopyWarning: \n",
      "A value is trying to be set on a copy of a slice from a DataFrame.\n",
      "Try using .loc[row_indexer,col_indexer] = value instead\n",
      "\n",
      "See the caveats in the documentation: http://pandas.pydata.org/pandas-docs/stable/indexing.html#indexing-view-versus-copy\n",
      "  \n"
     ]
    }
   ],
   "source": [
    "val_X['pred_hasRevenue'] = clf.predict(val_X)>0.4\n",
    "val_X['pred_Revenue'] = modelR.predict(val_X)\n",
    "pred = val_X['pred_hasRevenue'].values * val_X['pred_Revenue'].values\n",
    "pred[pred<0] = 0\n",
    "print(np.sqrt(metrics.mean_squared_error(val_y, pred)))"
   ]
  },
  {
   "cell_type": "markdown",
   "metadata": {},
   "source": [
    "##### Test"
   ]
  },
  {
   "cell_type": "code",
   "execution_count": 159,
   "metadata": {},
   "outputs": [
    {
     "name": "stderr",
     "output_type": "stream",
     "text": [
      "C:\\Users\\THINKPAD\\AppData\\Roaming\\Python\\Python36\\site-packages\\sklearn\\pipeline.py:451: DataConversionWarning: Data with input dtype int64 were all converted to float64 by StandardScaler.\n",
      "  Xt = transform.transform(Xt)\n",
      "C:\\Users\\THINKPAD\\AppData\\Local\\Continuum\\Anaconda3\\envs\\Tensor\\lib\\site-packages\\ipykernel_launcher.py:1: SettingWithCopyWarning: \n",
      "A value is trying to be set on a copy of a slice from a DataFrame.\n",
      "Try using .loc[row_indexer,col_indexer] = value instead\n",
      "\n",
      "See the caveats in the documentation: http://pandas.pydata.org/pandas-docs/stable/indexing.html#indexing-view-versus-copy\n",
      "  \"\"\"Entry point for launching an IPython kernel.\n"
     ]
    },
    {
     "name": "stdout",
     "output_type": "stream",
     "text": [
      "2.1526357088809944\n"
     ]
    },
    {
     "name": "stderr",
     "output_type": "stream",
     "text": [
      "C:\\Users\\THINKPAD\\AppData\\Local\\Continuum\\Anaconda3\\envs\\Tensor\\lib\\site-packages\\ipykernel_launcher.py:2: SettingWithCopyWarning: \n",
      "A value is trying to be set on a copy of a slice from a DataFrame.\n",
      "Try using .loc[row_indexer,col_indexer] = value instead\n",
      "\n",
      "See the caveats in the documentation: http://pandas.pydata.org/pandas-docs/stable/indexing.html#indexing-view-versus-copy\n",
      "  \n"
     ]
    }
   ],
   "source": [
    "test_X['pred_hasRevenue'] = clf.predict(test_X)>0.4\n",
    "test_X['pred_Revenue'] = modelR.predict(test_X)\n",
    "pred = test_X['pred_hasRevenue'].values * test_X['pred_Revenue'].values\n",
    "pred[pred<0] = 0\n",
    "print(np.sqrt(metrics.mean_squared_error(test_y, pred)))"
   ]
  },
  {
   "cell_type": "code",
   "execution_count": null,
   "metadata": {},
   "outputs": [],
   "source": []
  }
 ],
 "metadata": {
  "kernelspec": {
   "display_name": "Python 3",
   "language": "python",
   "name": "python3"
  },
  "language_info": {
   "codemirror_mode": {
    "name": "ipython",
    "version": 3
   },
   "file_extension": ".py",
   "mimetype": "text/x-python",
   "name": "python",
   "nbconvert_exporter": "python",
   "pygments_lexer": "ipython3",
   "version": "3.6.7"
  }
 },
 "nbformat": 4,
 "nbformat_minor": 2
}
