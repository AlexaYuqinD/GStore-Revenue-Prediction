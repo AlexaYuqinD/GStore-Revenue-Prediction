{
 "cells": [
  {
   "cell_type": "code",
   "execution_count": 2,
   "metadata": {},
   "outputs": [],
   "source": [
    "%matplotlib inline\n",
    "%config InlineBackend.figure_format = 'retina'\n",
    "\n",
    "import numpy as np # linear algebra\n",
    "import pandas as pd # data processing, CSV file I/O (e.g. pd.read_csv)\n",
    "\n",
    "# Input data files are available in the \"../input/\" directory.\n",
    "# For example, running this (by clicking run or pressing Shift+Enter) will list the files in the input directory\n",
    "\n",
    "import os\n",
    "\n",
    "\n",
    "import json\n",
    "from pandas.io.json import json_normalize\n",
    "# Any results you write to the current directory are saved as output.\n",
    "import matplotlib\n",
    "import matplotlib.pyplot as plt\n",
    "import seaborn as sns"
   ]
  },
  {
   "cell_type": "code",
   "execution_count": 3,
   "metadata": {},
   "outputs": [],
   "source": [
    "def loadData(filename='train.csv', nrows=None):\n",
    "    \"\"\"Load data file into data frame\n",
    "\n",
    "    Args:\n",
    "        filename: path of the data file to read\n",
    "        nrows: Number of rows of file to read, None = read all\n",
    "\n",
    "    Returns:\n",
    "        data frame of the data file\n",
    "    \"\"\"\n",
    "    JSON_COLUMNS = ['device', 'geoNetwork', 'totals', 'trafficSource']\n",
    "    \n",
    "    df = pd.read_csv(filename, \n",
    "                     converters={column: json.loads for column in JSON_COLUMNS}, \n",
    "                     dtype={'fullVisitorId': 'str'}, # Important!!\n",
    "                     nrows=nrows)\n",
    "    \n",
    "    for column in JSON_COLUMNS:\n",
    "        column_as_df = json_normalize(df[column])\n",
    "        column_as_df.columns = [f\"{column}.{subcolumn}\" for subcolumn in column_as_df.columns]\n",
    "        df = df.drop(column, axis=1).merge(column_as_df, right_index=True, left_index=True)\n",
    "    print(f\"Loaded {os.path.basename(filename)}. Shape: {df.shape}\")\n",
    "    return df"
   ]
  },
  {
   "cell_type": "code",
   "execution_count": 4,
   "metadata": {},
   "outputs": [
    {
     "name": "stdout",
     "output_type": "stream",
     "text": [
      "Loaded train.csv. Shape: (903653, 55)\n",
      "Wall time: 2min 21s\n"
     ]
    }
   ],
   "source": [
    "%%time\n",
    "dfTrain = loadData(\"train.csv\")"
   ]
  },
  {
   "cell_type": "code",
   "execution_count": 6,
   "metadata": {},
   "outputs": [
    {
     "name": "stdout",
     "output_type": "stream",
     "text": [
      "Loaded test.csv. Shape: (804684, 53)\n",
      "Wall time: 2min 6s\n"
     ]
    }
   ],
   "source": [
    "%%time\n",
    "dfTest = loadData(\"test.csv\")"
   ]
  },
  {
   "cell_type": "code",
   "execution_count": 4,
   "metadata": {},
   "outputs": [
    {
     "data": {
      "text/plain": [
       "['socialEngagementType',\n",
       " 'device.browserSize',\n",
       " 'device.browserVersion',\n",
       " 'device.flashVersion',\n",
       " 'device.language',\n",
       " 'device.mobileDeviceBranding',\n",
       " 'device.mobileDeviceInfo',\n",
       " 'device.mobileDeviceMarketingName',\n",
       " 'device.mobileDeviceModel',\n",
       " 'device.mobileInputSelector',\n",
       " 'device.operatingSystemVersion',\n",
       " 'device.screenColors',\n",
       " 'device.screenResolution',\n",
       " 'geoNetwork.cityId',\n",
       " 'geoNetwork.latitude',\n",
       " 'geoNetwork.longitude',\n",
       " 'geoNetwork.networkLocation',\n",
       " 'totals.visits',\n",
       " 'trafficSource.adwordsClickInfo.criteriaParameters']"
      ]
     },
     "execution_count": 4,
     "metadata": {},
     "output_type": "execute_result"
    }
   ],
   "source": [
    "constCols = [c for c in dfTrain.columns if dfTrain[c].nunique(dropna=False)==1 ]\n",
    "constCols"
   ]
  },
  {
   "cell_type": "code",
   "execution_count": 5,
   "metadata": {},
   "outputs": [
    {
     "data": {
      "text/plain": [
       "19"
      ]
     },
     "execution_count": 5,
     "metadata": {},
     "output_type": "execute_result"
    }
   ],
   "source": [
    "dfTrain = dfTrain.drop(constCols, axis = 1)\n",
    "len(constCols)"
   ]
  },
  {
   "cell_type": "code",
   "execution_count": 6,
   "metadata": {},
   "outputs": [
    {
     "name": "stdout",
     "output_type": "stream",
     "text": [
      "<class 'pandas.core.frame.DataFrame'>\n",
      "RangeIndex: 903653 entries, 0 to 903652\n",
      "Data columns (total 36 columns):\n",
      "channelGrouping                                 903653 non-null object\n",
      "date                                            903653 non-null int64\n",
      "fullVisitorId                                   903653 non-null object\n",
      "sessionId                                       903653 non-null object\n",
      "visitId                                         903653 non-null int64\n",
      "visitNumber                                     903653 non-null int64\n",
      "visitStartTime                                  903653 non-null int64\n",
      "device.browser                                  903653 non-null object\n",
      "device.deviceCategory                           903653 non-null object\n",
      "device.isMobile                                 903653 non-null bool\n",
      "device.operatingSystem                          903653 non-null object\n",
      "geoNetwork.city                                 903653 non-null object\n",
      "geoNetwork.continent                            903653 non-null object\n",
      "geoNetwork.country                              903653 non-null object\n",
      "geoNetwork.metro                                903653 non-null object\n",
      "geoNetwork.networkDomain                        903653 non-null object\n",
      "geoNetwork.region                               903653 non-null object\n",
      "geoNetwork.subContinent                         903653 non-null object\n",
      "totals.bounces                                  450630 non-null object\n",
      "totals.hits                                     903653 non-null object\n",
      "totals.newVisits                                703060 non-null object\n",
      "totals.pageviews                                903553 non-null object\n",
      "totals.transactionRevenue                       11515 non-null object\n",
      "trafficSource.adContent                         10946 non-null object\n",
      "trafficSource.adwordsClickInfo.adNetworkType    21460 non-null object\n",
      "trafficSource.adwordsClickInfo.gclId            21561 non-null object\n",
      "trafficSource.adwordsClickInfo.isVideoAd        21460 non-null object\n",
      "trafficSource.adwordsClickInfo.page             21460 non-null object\n",
      "trafficSource.adwordsClickInfo.slot             21460 non-null object\n",
      "trafficSource.campaign                          903653 non-null object\n",
      "trafficSource.campaignCode                      1 non-null object\n",
      "trafficSource.isTrueDirect                      274005 non-null object\n",
      "trafficSource.keyword                           400724 non-null object\n",
      "trafficSource.medium                            903653 non-null object\n",
      "trafficSource.referralPath                      330941 non-null object\n",
      "trafficSource.source                            903653 non-null object\n",
      "dtypes: bool(1), int64(4), object(31)\n",
      "memory usage: 242.2+ MB\n"
     ]
    }
   ],
   "source": [
    "dfTrain.info()"
   ]
  },
  {
   "cell_type": "markdown",
   "metadata": {},
   "source": [
    "#### Convert data type"
   ]
  },
  {
   "cell_type": "code",
   "execution_count": 10,
   "metadata": {
    "collapsed": true
   },
   "outputs": [],
   "source": [
    "def convertDtype(df, colNames, dtype):\n",
    "    for col in colNames:\n",
    "        df[col] = df[col].astype(dtype)\n",
    "    return df\n",
    "\n",
    "def dfFillNa(df, colNames):\n",
    "    for col in colNames:\n",
    "        df[col] = df[col].fillna(0)\n",
    "    return df"
   ]
  },
  {
   "cell_type": "code",
   "execution_count": 8,
   "metadata": {
    "collapsed": true
   },
   "outputs": [],
   "source": [
    "def checkCol(df, colName, isCata = True):\n",
    "    numRow = df.shape[0]\n",
    "    print(colName, ':')\n",
    "    print('Any NA?: ', df[colName].isnull().values.any())\n",
    "    if df[colName].isnull().values.any():\n",
    "        numNA = sum(df[colName].isnull().values)\n",
    "        print ('    # of NA: ', numNA)\n",
    "        print ('    NA%:     ', numNA/numRow)\n",
    "    if isCata:\n",
    "        levelList = df[colName].unique()\n",
    "        print('Different levels: ', len(levelList), levelList)\n",
    "        speList = ['(not set)', '(not provided)', '(none)', '(Other)']\n",
    "        for spe in speList:\n",
    "            if spe in levelList:\n",
    "                print(spe, 'percentage: ', sum(df[colName] == spe)/numRow)\n",
    "        matplotlib.rcParams['figure.figsize'] = (12, 6)\n",
    "        sns.catplot(y=colName, kind=\"count\", data=dfTrain)\n",
    "        \n",
    "    else:\n",
    "        print('range: ', min(df[colName].astype(float).dropna()), max(df[colName].astype(float).dropna()))"
   ]
  },
  {
   "cell_type": "code",
   "execution_count": 1,
   "metadata": {},
   "outputs": [
    {
     "ename": "NameError",
     "evalue": "name 'checkCol' is not defined",
     "output_type": "error",
     "traceback": [
      "\u001b[0;31m---------------------------------------------------------------------------\u001b[0m",
      "\u001b[0;31mNameError\u001b[0m                                 Traceback (most recent call last)",
      "\u001b[0;32m<ipython-input-1-0675c8ce9573>\u001b[0m in \u001b[0;36m<module>\u001b[0;34m()\u001b[0m\n\u001b[0;32m----> 1\u001b[0;31m \u001b[0mcheckCol\u001b[0m\u001b[0;34m(\u001b[0m\u001b[0mdfTrain\u001b[0m\u001b[0;34m,\u001b[0m \u001b[0;34m'geoNetwork.metro'\u001b[0m\u001b[0;34m,\u001b[0m \u001b[0;32mTrue\u001b[0m\u001b[0;34m)\u001b[0m\u001b[0;34m\u001b[0m\u001b[0m\n\u001b[0m",
      "\u001b[0;31mNameError\u001b[0m: name 'checkCol' is not defined"
     ]
    }
   ],
   "source": [
    "checkCol(dfTrain, 'geoNetwork.metro', True)"
   ]
  },
  {
   "cell_type": "markdown",
   "metadata": {},
   "source": [
    "| Col | to dtype |\n",
    "|---|---|\n",
    "| sessionId | drop |\n",
    "| visitId | drop |\n",
    "| totals.bounces | fillna(0), bool |\n",
    "| totals.hits | int |\n",
    "| totals.newVisits | fillna(0), bool |\n",
    "| totals.pageviews | fillna(0), int |\n",
    "| totals.transactionRevenue | fillna(0), int |\n",
    "| trafficSource.campaignCode | drop |\n",
    "\n"
   ]
  },
  {
   "cell_type": "code",
   "execution_count": 11,
   "metadata": {
    "collapsed": true
   },
   "outputs": [],
   "source": [
    "def clearRawDF(df):\n",
    "    df = df.drop(['sessionId', 'visitId', 'trafficSource.campaignCode'], axis = 1)\n",
    "    df = dfFillNa(df, ['totals.bounces', 'totals.newVisits', 'totals.pageviews', 'totals.transactionRevenue'])\n",
    "    df = convertDtype(df, ['totals.bounces', 'totals.newVisits'], bool)\n",
    "    df = convertDtype(df, ['totals.hits', 'totals.pageviews', 'totals.transactionRevenue'], int)\n",
    "    return df"
   ]
  },
  {
   "cell_type": "code",
   "execution_count": 12,
   "metadata": {
    "collapsed": true
   },
   "outputs": [],
   "source": [
    "dfTrain = clearRawDF(dfTrain)"
   ]
  },
  {
   "cell_type": "code",
   "execution_count": 13,
   "metadata": {},
   "outputs": [
    {
     "name": "stdout",
     "output_type": "stream",
     "text": [
      "<class 'pandas.core.frame.DataFrame'>\n",
      "RangeIndex: 903653 entries, 0 to 903652\n",
      "Data columns (total 33 columns):\n",
      "channelGrouping                                 903653 non-null object\n",
      "date                                            903653 non-null int64\n",
      "fullVisitorId                                   903653 non-null object\n",
      "visitNumber                                     903653 non-null int64\n",
      "visitStartTime                                  903653 non-null int64\n",
      "device.browser                                  903653 non-null object\n",
      "device.deviceCategory                           903653 non-null object\n",
      "device.isMobile                                 903653 non-null bool\n",
      "device.operatingSystem                          903653 non-null object\n",
      "geoNetwork.city                                 903653 non-null object\n",
      "geoNetwork.continent                            903653 non-null object\n",
      "geoNetwork.country                              903653 non-null object\n",
      "geoNetwork.metro                                903653 non-null object\n",
      "geoNetwork.networkDomain                        903653 non-null object\n",
      "geoNetwork.region                               903653 non-null object\n",
      "geoNetwork.subContinent                         903653 non-null object\n",
      "totals.bounces                                  903653 non-null bool\n",
      "totals.hits                                     903653 non-null int64\n",
      "totals.newVisits                                903653 non-null bool\n",
      "totals.pageviews                                903653 non-null int64\n",
      "totals.transactionRevenue                       903653 non-null int64\n",
      "trafficSource.adContent                         10946 non-null object\n",
      "trafficSource.adwordsClickInfo.adNetworkType    21460 non-null object\n",
      "trafficSource.adwordsClickInfo.gclId            21561 non-null object\n",
      "trafficSource.adwordsClickInfo.isVideoAd        21460 non-null object\n",
      "trafficSource.adwordsClickInfo.page             21460 non-null object\n",
      "trafficSource.adwordsClickInfo.slot             21460 non-null object\n",
      "trafficSource.campaign                          903653 non-null object\n",
      "trafficSource.isTrueDirect                      274005 non-null object\n",
      "trafficSource.keyword                           400724 non-null object\n",
      "trafficSource.medium                            903653 non-null object\n",
      "trafficSource.referralPath                      330941 non-null object\n",
      "trafficSource.source                            903653 non-null object\n",
      "dtypes: bool(3), int64(6), object(24)\n",
      "memory usage: 209.4+ MB\n"
     ]
    }
   ],
   "source": [
    "dfTrain.info()"
   ]
  },
  {
   "cell_type": "markdown",
   "metadata": {},
   "source": [
    "#### Add binary variable hasRevenue"
   ]
  },
  {
   "cell_type": "code",
   "execution_count": 14,
   "metadata": {
    "collapsed": true
   },
   "outputs": [],
   "source": [
    "dfTrain['hasRevenue'] = dfTrain['totals.transactionRevenue']>5000"
   ]
  },
  {
   "cell_type": "code",
   "execution_count": 15,
   "metadata": {},
   "outputs": [
    {
     "name": "stdout",
     "output_type": "stream",
     "text": [
      "hasRevenue :\n",
      "Any NA?:  False\n",
      "Different levels:  2 [False  True]\n"
     ]
    },
    {
     "name": "stderr",
     "output_type": "stream",
     "text": [
      "/Users/Tianyi/anaconda3/lib/python3.6/site-packages/ipykernel_launcher.py:14: FutureWarning: elementwise comparison failed; returning scalar instead, but in the future will perform elementwise comparison\n",
      "  \n"
     ]
    },
    {
     "data": {
      "image/png": "[encoded data removed]",
      "text/plain": [
       "<matplotlib.figure.Figure at 0x1b5f78b588>"
      ]
     },
     "metadata": {
      "image/png": {
       "height": 364,
       "width": 350
      }
     },
     "output_type": "display_data"
    }
   ],
   "source": [
    "checkCol(dfTrain, 'hasRevenue', True)"
   ]
  },
  {
   "cell_type": "code",
   "execution_count": 29,
   "metadata": {},
   "outputs": [
    {
     "data": {
      "text/plain": [
       "<seaborn.axisgrid.FacetGrid at 0x1b62a14240>"
      ]
     },
     "execution_count": 29,
     "metadata": {},
     "output_type": "execute_result"
    },
    {
     "data": {
      "image/png": "[encoded data removed]",
      "text/plain": [
       "<matplotlib.figure.Figure at 0x1b62506ac8>"
      ]
     },
     "metadata": {
      "image/png": {
       "height": 364,
       "width": 353
      }
     },
     "output_type": "display_data"
    }
   ],
   "source": [
    "matplotlib.rcParams['figure.figsize'] = (12, 6)\n",
    "sns.catplot(y=\"channelGrouping\", kind=\"count\", data=dfTrain)\n"
   ]
  },
  {
   "cell_type": "markdown",
   "metadata": {},
   "source": [
    "####  $\\uparrow$ Might want to put four least groups into one"
   ]
  },
  {
   "cell_type": "code",
   "execution_count": 18,
   "metadata": {},
   "outputs": [
    {
     "data": {
      "text/plain": [
       "(722922, 34)"
      ]
     },
     "execution_count": 18,
     "metadata": {},
     "output_type": "execute_result"
    }
   ],
   "source": [
    "from sklearn.model_selection import train_test_split\n",
    "train, test = train_test_split(dfTrain, test_size=0.2, random_state = 1)\n",
    "train.shape"
   ]
  },
  {
   "cell_type": "code",
   "execution_count": 19,
   "metadata": {},
   "outputs": [
    {
     "data": {
      "text/plain": [
       "(180731, 34)"
      ]
     },
     "execution_count": 19,
     "metadata": {},
     "output_type": "execute_result"
    }
   ],
   "source": [
    "test.shape"
   ]
  },
  {
   "cell_type": "code",
   "execution_count": 20,
   "metadata": {
    "collapsed": true
   },
   "outputs": [],
   "source": [
    "train.to_csv('dataset/dfTrain.csv')\n",
    "test.to_csv('dataset/dfTest.csv')"
   ]
  },
  {
   "cell_type": "code",
   "execution_count": null,
   "metadata": {
    "collapsed": true
   },
   "outputs": [],
   "source": []
  }
 ],
 "metadata": {
  "kernelspec": {
   "display_name": "Python [default]",
   "language": "python",
   "name": "python3"
  },
  "language_info": {
   "codemirror_mode": {
    "name": "ipython",
    "version": 3
   },
   "file_extension": ".py",
   "mimetype": "text/x-python",
   "name": "python",
   "nbconvert_exporter": "python",
   "pygments_lexer": "ipython3",
   "version": "3.7.0"
  }
 },
 "nbformat": 4,
 "nbformat_minor": 2
}
